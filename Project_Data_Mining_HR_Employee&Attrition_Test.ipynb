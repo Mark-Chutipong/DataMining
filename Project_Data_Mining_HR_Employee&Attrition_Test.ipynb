{
  "cells": [
    {
      "cell_type": "markdown",
      "metadata": {
        "id": "aTtwFLZyKTks"
      },
      "source": [
        "###สมาชิกกลุ่ม\n",
        "\n",
        "\n",
        "สรวิชญ์  เสริมทรัพย์  2013110198\n",
        "\n",
        "ไกรวิชณ์ ชินชนะถาวร 2013110529\n",
        "\n",
        "ชุติพงศ์ พันธ์แสนทวีกุล 2013110016"
      ]
    },
    {
      "cell_type": "markdown",
      "metadata": {
        "id": "uHlXQfuma3MP"
      },
      "source": [
        "#**การคาดการณ์การลาออกของพนักงานในกลุ่มตัวอย่าง**\n",
        "\n",
        "1.อธิบายวัตถุประสงค์ (สามารถตั้งคำถามที่เป็นประโยชน์ต่อธุรกิจหรือสังคมได้)\n",
        "- เพื่อตรวจสอบหรือลองคาดการณ์แนวโน้มได้ว่าจะมีพนักงานคนไหนที่จะลาออกจากบริษัทปัจจุบันได้อีก\n",
        "- สามารถนำข้อมูลนี้ไปใช้ในการปรับปรุงสวัสดิการหรือช่วยเหลือพนักงานบริษัทได้ง่ายขึ้น\n",
        "- สามารถนำข้อมูลไปใช้ร่วมกับกฎหมายแรงงานได้เพื่อตรวจสอบบริษัท\n",
        "- ช่วยในการบริหารประสิทธิภาพการทำงานและสุขภาพจิตพนักงานภายในบริษัท\n",
        "\n",
        "2.การทำ Data Aquisition //A.K.A บอกแหล่งที่มาของข้อมูล\n",
        "- https://www.kaggle.com/datasets/pavansubhasht/ibm-hr-analytics-attrition-dataset"
      ]
    },
    {
      "cell_type": "markdown",
      "metadata": {
        "id": "BZOL8S8nZqLQ"
      },
      "source": [
        "##3.อธิบายข้อมูล (สามารถทำ Exploratory Data Analysis)"
      ]
    },
    {
      "cell_type": "code",
      "execution_count": 1,
      "metadata": {
        "id": "kAdbn_9Na2wg"
      },
      "outputs": [],
      "source": [
        "import pandas as pd\n",
        "#!wget -q https://github.com/Phonbopit/sarabun-webfont/raw/master/fonts/thsarabunnew-webfont.ttf\n",
        "import matplotlib as mpl\n",
        "#mpl.font_manager.fontManager.addfont('thsarabunnew-webfont.ttf')\n",
        "#mpl.rc('font', family='TH Sarabun New') #Insert Thai Fonts first"
      ]
    },
    {
      "cell_type": "code",
      "execution_count": 2,
      "metadata": {
        "id": "pK1EN6hvOgB-"
      },
      "outputs": [],
      "source": [
        "from sklearn.tree import DecisionTreeClassifier\n",
        "from sklearn.ensemble import RandomForestClassifier\n",
        "from sklearn.metrics import classification_report\n",
        "from sklearn.metrics import confusion_matrix\n",
        "from sklearn.metrics import accuracy_score\n",
        "from sklearn.model_selection import train_test_split\n",
        "from sklearn.tree import export_graphviz\n",
        "from six import StringIO\n",
        "from IPython.display import Image\n",
        "import pydotplus\n",
        "from sklearn.svm import SVC\n",
        "import numpy as np"
      ]
    },
    {
      "cell_type": "code",
      "execution_count": 3,
      "metadata": {
        "id": "F1zuUs8UT9l_"
      },
      "outputs": [],
      "source": [
        "df = pd.read_csv('/Users/chutipongpansantaveekun/Documents/Work/4th Year/1st Semmester/ITE-436 Data Mining/Project/HR_Employee_Attrition.csv')"
      ]
    },
    {
      "cell_type": "code",
      "execution_count": 4,
      "metadata": {
        "colab": {
          "base_uri": "https://localhost:8080/"
        },
        "id": "egOE4Vw5UhSh",
        "outputId": "57047cb5-e179-4acd-a021-e755baaadc70"
      },
      "outputs": [
        {
          "data": {
            "text/plain": [
              "(499, 35)"
            ]
          },
          "execution_count": 4,
          "metadata": {},
          "output_type": "execute_result"
        }
      ],
      "source": [
        "df.shape"
      ]
    },
    {
      "cell_type": "code",
      "execution_count": 5,
      "metadata": {
        "colab": {
          "base_uri": "https://localhost:8080/",
          "height": 242
        },
        "id": "4BAz3IKz0KoZ",
        "outputId": "4516de8d-097b-4b0f-ff18-dc24504c2044"
      },
      "outputs": [
        {
          "data": {
            "text/html": [
              "<div>\n",
              "<style scoped>\n",
              "    .dataframe tbody tr th:only-of-type {\n",
              "        vertical-align: middle;\n",
              "    }\n",
              "\n",
              "    .dataframe tbody tr th {\n",
              "        vertical-align: top;\n",
              "    }\n",
              "\n",
              "    .dataframe thead th {\n",
              "        text-align: right;\n",
              "    }\n",
              "</style>\n",
              "<table border=\"1\" class=\"dataframe\">\n",
              "  <thead>\n",
              "    <tr style=\"text-align: right;\">\n",
              "      <th></th>\n",
              "      <th>Age</th>\n",
              "      <th>Attrition</th>\n",
              "      <th>BusinessTravel</th>\n",
              "      <th>DailyRate</th>\n",
              "      <th>Department</th>\n",
              "      <th>DistanceFromHome</th>\n",
              "      <th>Education</th>\n",
              "      <th>EducationField</th>\n",
              "      <th>EmployeeCount</th>\n",
              "      <th>EmployeeNumber</th>\n",
              "      <th>...</th>\n",
              "      <th>RelationshipSatisfaction</th>\n",
              "      <th>StandardHours</th>\n",
              "      <th>StockOptionLevel</th>\n",
              "      <th>TotalWorkingYears</th>\n",
              "      <th>TrainingTimesLastYear</th>\n",
              "      <th>WorkLifeBalance</th>\n",
              "      <th>YearsAtCompany</th>\n",
              "      <th>YearsInCurrentRole</th>\n",
              "      <th>YearsSinceLastPromotion</th>\n",
              "      <th>YearsWithCurrManager</th>\n",
              "    </tr>\n",
              "  </thead>\n",
              "  <tbody>\n",
              "    <tr>\n",
              "      <th>379</th>\n",
              "      <td>21</td>\n",
              "      <td>Yes</td>\n",
              "      <td>Travel_Rarely</td>\n",
              "      <td>337</td>\n",
              "      <td>Sales</td>\n",
              "      <td>7</td>\n",
              "      <td>1</td>\n",
              "      <td>Marketing</td>\n",
              "      <td>1</td>\n",
              "      <td>1780</td>\n",
              "      <td>...</td>\n",
              "      <td>2</td>\n",
              "      <td>80</td>\n",
              "      <td>0</td>\n",
              "      <td>1</td>\n",
              "      <td>3</td>\n",
              "      <td>3</td>\n",
              "      <td>1</td>\n",
              "      <td>0</td>\n",
              "      <td>1</td>\n",
              "      <td>0</td>\n",
              "    </tr>\n",
              "    <tr>\n",
              "      <th>365</th>\n",
              "      <td>31</td>\n",
              "      <td>Yes</td>\n",
              "      <td>Travel_Rarely</td>\n",
              "      <td>1079</td>\n",
              "      <td>Sales</td>\n",
              "      <td>16</td>\n",
              "      <td>4</td>\n",
              "      <td>Marketing</td>\n",
              "      <td>1</td>\n",
              "      <td>1761</td>\n",
              "      <td>...</td>\n",
              "      <td>1</td>\n",
              "      <td>80</td>\n",
              "      <td>3</td>\n",
              "      <td>10</td>\n",
              "      <td>2</td>\n",
              "      <td>3</td>\n",
              "      <td>1</td>\n",
              "      <td>0</td>\n",
              "      <td>0</td>\n",
              "      <td>0</td>\n",
              "    </tr>\n",
              "    <tr>\n",
              "      <th>355</th>\n",
              "      <td>31</td>\n",
              "      <td>No</td>\n",
              "      <td>Travel_Rarely</td>\n",
              "      <td>1003</td>\n",
              "      <td>Sales</td>\n",
              "      <td>5</td>\n",
              "      <td>3</td>\n",
              "      <td>Technical Degree</td>\n",
              "      <td>1</td>\n",
              "      <td>1749</td>\n",
              "      <td>...</td>\n",
              "      <td>3</td>\n",
              "      <td>80</td>\n",
              "      <td>1</td>\n",
              "      <td>6</td>\n",
              "      <td>3</td>\n",
              "      <td>3</td>\n",
              "      <td>5</td>\n",
              "      <td>2</td>\n",
              "      <td>0</td>\n",
              "      <td>2</td>\n",
              "    </tr>\n",
              "  </tbody>\n",
              "</table>\n",
              "<p>3 rows × 35 columns</p>\n",
              "</div>"
            ],
            "text/plain": [
              "     Age Attrition BusinessTravel  DailyRate Department  DistanceFromHome  \\\n",
              "379   21       Yes  Travel_Rarely        337      Sales                 7   \n",
              "365   31       Yes  Travel_Rarely       1079      Sales                16   \n",
              "355   31        No  Travel_Rarely       1003      Sales                 5   \n",
              "\n",
              "     Education    EducationField  EmployeeCount  EmployeeNumber  ...  \\\n",
              "379          1         Marketing              1            1780  ...   \n",
              "365          4         Marketing              1            1761  ...   \n",
              "355          3  Technical Degree              1            1749  ...   \n",
              "\n",
              "     RelationshipSatisfaction StandardHours  StockOptionLevel  \\\n",
              "379                         2            80                 0   \n",
              "365                         1            80                 3   \n",
              "355                         3            80                 1   \n",
              "\n",
              "     TotalWorkingYears  TrainingTimesLastYear WorkLifeBalance  YearsAtCompany  \\\n",
              "379                  1                      3               3               1   \n",
              "365                 10                      2               3               1   \n",
              "355                  6                      3               3               5   \n",
              "\n",
              "    YearsInCurrentRole  YearsSinceLastPromotion  YearsWithCurrManager  \n",
              "379                  0                        1                     0  \n",
              "365                  0                        0                     0  \n",
              "355                  2                        0                     2  \n",
              "\n",
              "[3 rows x 35 columns]"
            ]
          },
          "execution_count": 5,
          "metadata": {},
          "output_type": "execute_result"
        }
      ],
      "source": [
        "df.sample(n = 3)"
      ]
    },
    {
      "cell_type": "code",
      "execution_count": 6,
      "metadata": {
        "colab": {
          "base_uri": "https://localhost:8080/",
          "height": 304
        },
        "id": "vgtcH4QaUo3W",
        "outputId": "39e12519-e13a-4015-b938-cf58d2530307"
      },
      "outputs": [
        {
          "data": {
            "text/html": [
              "<div>\n",
              "<style scoped>\n",
              "    .dataframe tbody tr th:only-of-type {\n",
              "        vertical-align: middle;\n",
              "    }\n",
              "\n",
              "    .dataframe tbody tr th {\n",
              "        vertical-align: top;\n",
              "    }\n",
              "\n",
              "    .dataframe thead th {\n",
              "        text-align: right;\n",
              "    }\n",
              "</style>\n",
              "<table border=\"1\" class=\"dataframe\">\n",
              "  <thead>\n",
              "    <tr style=\"text-align: right;\">\n",
              "      <th></th>\n",
              "      <th>Age</th>\n",
              "      <th>Attrition</th>\n",
              "      <th>BusinessTravel</th>\n",
              "      <th>DailyRate</th>\n",
              "      <th>Department</th>\n",
              "      <th>DistanceFromHome</th>\n",
              "      <th>Education</th>\n",
              "      <th>EducationField</th>\n",
              "      <th>EmployeeCount</th>\n",
              "      <th>EmployeeNumber</th>\n",
              "      <th>...</th>\n",
              "      <th>RelationshipSatisfaction</th>\n",
              "      <th>StandardHours</th>\n",
              "      <th>StockOptionLevel</th>\n",
              "      <th>TotalWorkingYears</th>\n",
              "      <th>TrainingTimesLastYear</th>\n",
              "      <th>WorkLifeBalance</th>\n",
              "      <th>YearsAtCompany</th>\n",
              "      <th>YearsInCurrentRole</th>\n",
              "      <th>YearsSinceLastPromotion</th>\n",
              "      <th>YearsWithCurrManager</th>\n",
              "    </tr>\n",
              "  </thead>\n",
              "  <tbody>\n",
              "    <tr>\n",
              "      <th>0</th>\n",
              "      <td>41</td>\n",
              "      <td>Yes</td>\n",
              "      <td>Travel_Rarely</td>\n",
              "      <td>1102</td>\n",
              "      <td>Sales</td>\n",
              "      <td>1</td>\n",
              "      <td>2</td>\n",
              "      <td>Life Sciences</td>\n",
              "      <td>1</td>\n",
              "      <td>1</td>\n",
              "      <td>...</td>\n",
              "      <td>1</td>\n",
              "      <td>80</td>\n",
              "      <td>0</td>\n",
              "      <td>8</td>\n",
              "      <td>0</td>\n",
              "      <td>1</td>\n",
              "      <td>6</td>\n",
              "      <td>4</td>\n",
              "      <td>0</td>\n",
              "      <td>5</td>\n",
              "    </tr>\n",
              "    <tr>\n",
              "      <th>1</th>\n",
              "      <td>37</td>\n",
              "      <td>Yes</td>\n",
              "      <td>Travel_Rarely</td>\n",
              "      <td>1373</td>\n",
              "      <td>Research &amp; Development</td>\n",
              "      <td>2</td>\n",
              "      <td>2</td>\n",
              "      <td>Other</td>\n",
              "      <td>1</td>\n",
              "      <td>4</td>\n",
              "      <td>...</td>\n",
              "      <td>2</td>\n",
              "      <td>80</td>\n",
              "      <td>0</td>\n",
              "      <td>7</td>\n",
              "      <td>3</td>\n",
              "      <td>3</td>\n",
              "      <td>0</td>\n",
              "      <td>0</td>\n",
              "      <td>0</td>\n",
              "      <td>0</td>\n",
              "    </tr>\n",
              "    <tr>\n",
              "      <th>2</th>\n",
              "      <td>28</td>\n",
              "      <td>Yes</td>\n",
              "      <td>Travel_Rarely</td>\n",
              "      <td>103</td>\n",
              "      <td>Research &amp; Development</td>\n",
              "      <td>24</td>\n",
              "      <td>3</td>\n",
              "      <td>Life Sciences</td>\n",
              "      <td>1</td>\n",
              "      <td>19</td>\n",
              "      <td>...</td>\n",
              "      <td>2</td>\n",
              "      <td>80</td>\n",
              "      <td>0</td>\n",
              "      <td>6</td>\n",
              "      <td>4</td>\n",
              "      <td>3</td>\n",
              "      <td>4</td>\n",
              "      <td>2</td>\n",
              "      <td>0</td>\n",
              "      <td>3</td>\n",
              "    </tr>\n",
              "    <tr>\n",
              "      <th>3</th>\n",
              "      <td>36</td>\n",
              "      <td>Yes</td>\n",
              "      <td>Travel_Rarely</td>\n",
              "      <td>1218</td>\n",
              "      <td>Sales</td>\n",
              "      <td>9</td>\n",
              "      <td>4</td>\n",
              "      <td>Life Sciences</td>\n",
              "      <td>1</td>\n",
              "      <td>27</td>\n",
              "      <td>...</td>\n",
              "      <td>2</td>\n",
              "      <td>80</td>\n",
              "      <td>0</td>\n",
              "      <td>10</td>\n",
              "      <td>4</td>\n",
              "      <td>3</td>\n",
              "      <td>5</td>\n",
              "      <td>3</td>\n",
              "      <td>0</td>\n",
              "      <td>3</td>\n",
              "    </tr>\n",
              "    <tr>\n",
              "      <th>4</th>\n",
              "      <td>34</td>\n",
              "      <td>Yes</td>\n",
              "      <td>Travel_Rarely</td>\n",
              "      <td>699</td>\n",
              "      <td>Research &amp; Development</td>\n",
              "      <td>6</td>\n",
              "      <td>1</td>\n",
              "      <td>Medical</td>\n",
              "      <td>1</td>\n",
              "      <td>31</td>\n",
              "      <td>...</td>\n",
              "      <td>3</td>\n",
              "      <td>80</td>\n",
              "      <td>0</td>\n",
              "      <td>8</td>\n",
              "      <td>2</td>\n",
              "      <td>3</td>\n",
              "      <td>4</td>\n",
              "      <td>2</td>\n",
              "      <td>1</td>\n",
              "      <td>3</td>\n",
              "    </tr>\n",
              "  </tbody>\n",
              "</table>\n",
              "<p>5 rows × 35 columns</p>\n",
              "</div>"
            ],
            "text/plain": [
              "   Age Attrition BusinessTravel  DailyRate              Department  \\\n",
              "0   41       Yes  Travel_Rarely       1102                   Sales   \n",
              "1   37       Yes  Travel_Rarely       1373  Research & Development   \n",
              "2   28       Yes  Travel_Rarely        103  Research & Development   \n",
              "3   36       Yes  Travel_Rarely       1218                   Sales   \n",
              "4   34       Yes  Travel_Rarely        699  Research & Development   \n",
              "\n",
              "   DistanceFromHome  Education EducationField  EmployeeCount  EmployeeNumber  \\\n",
              "0                 1          2  Life Sciences              1               1   \n",
              "1                 2          2          Other              1               4   \n",
              "2                24          3  Life Sciences              1              19   \n",
              "3                 9          4  Life Sciences              1              27   \n",
              "4                 6          1        Medical              1              31   \n",
              "\n",
              "   ...  RelationshipSatisfaction StandardHours  StockOptionLevel  \\\n",
              "0  ...                         1            80                 0   \n",
              "1  ...                         2            80                 0   \n",
              "2  ...                         2            80                 0   \n",
              "3  ...                         2            80                 0   \n",
              "4  ...                         3            80                 0   \n",
              "\n",
              "   TotalWorkingYears  TrainingTimesLastYear WorkLifeBalance  YearsAtCompany  \\\n",
              "0                  8                      0               1               6   \n",
              "1                  7                      3               3               0   \n",
              "2                  6                      4               3               4   \n",
              "3                 10                      4               3               5   \n",
              "4                  8                      2               3               4   \n",
              "\n",
              "  YearsInCurrentRole  YearsSinceLastPromotion  YearsWithCurrManager  \n",
              "0                  4                        0                     5  \n",
              "1                  0                        0                     0  \n",
              "2                  2                        0                     3  \n",
              "3                  3                        0                     3  \n",
              "4                  2                        1                     3  \n",
              "\n",
              "[5 rows x 35 columns]"
            ]
          },
          "execution_count": 6,
          "metadata": {},
          "output_type": "execute_result"
        }
      ],
      "source": [
        "df.head()"
      ]
    },
    {
      "cell_type": "code",
      "execution_count": 7,
      "metadata": {
        "colab": {
          "base_uri": "https://localhost:8080/"
        },
        "id": "pB0o_4jWUqTl",
        "outputId": "0fbd5a4c-a4a0-4108-805b-252b6152566e"
      },
      "outputs": [
        {
          "data": {
            "text/plain": [
              "Index(['Age', 'Attrition', 'BusinessTravel', 'DailyRate', 'Department',\n",
              "       'DistanceFromHome', 'Education', 'EducationField', 'EmployeeCount',\n",
              "       'EmployeeNumber', 'EnvironmentSatisfaction', 'Gender', 'HourlyRate',\n",
              "       'JobInvolvement', 'JobLevel', 'JobRole', 'JobSatisfaction',\n",
              "       'MaritalStatus', 'MonthlyIncome', 'MonthlyRate', 'NumCompaniesWorked',\n",
              "       'Over18', 'OverTime', 'PercentSalaryHike', 'PerformanceRating',\n",
              "       'RelationshipSatisfaction', 'StandardHours', 'StockOptionLevel',\n",
              "       'TotalWorkingYears', 'TrainingTimesLastYear', 'WorkLifeBalance',\n",
              "       'YearsAtCompany', 'YearsInCurrentRole', 'YearsSinceLastPromotion',\n",
              "       'YearsWithCurrManager'],\n",
              "      dtype='object')"
            ]
          },
          "execution_count": 7,
          "metadata": {},
          "output_type": "execute_result"
        }
      ],
      "source": [
        "df.columns"
      ]
    },
    {
      "cell_type": "markdown",
      "metadata": {
        "id": "yvbrjxeFd2JK"
      },
      "source": [
        "##4.ขั้นตอนการเตรียมข้อมูล (สามารถทำ Data Preparation Process ได้อย่างเหมาะสมและมีเหตุผล)"
      ]
    },
    {
      "cell_type": "markdown",
      "metadata": {
        "id": "xDI4miYA5dPr"
      },
      "source": [
        "###4.1 ตัดคอลัมน์ที่ไม่เกี่ยวข้องกับการวิเคราะห์ออก"
      ]
    },
    {
      "cell_type": "code",
      "execution_count": 8,
      "metadata": {
        "colab": {
          "base_uri": "https://localhost:8080/"
        },
        "id": "ft7ZzK_PjF5a",
        "outputId": "e41fd533-c600-4fa8-d6ea-eb6b00b0bbe4"
      },
      "outputs": [
        {
          "data": {
            "text/plain": [
              "Index(['Age', 'Attrition', 'BusinessTravel', 'DailyRate', 'Department',\n",
              "       'DistanceFromHome', 'Education', 'EducationField', 'EmployeeCount',\n",
              "       'EmployeeNumber', 'EnvironmentSatisfaction', 'Gender', 'HourlyRate',\n",
              "       'JobInvolvement', 'JobLevel', 'JobRole', 'JobSatisfaction',\n",
              "       'MaritalStatus', 'MonthlyIncome', 'MonthlyRate', 'NumCompaniesWorked',\n",
              "       'Over18', 'OverTime', 'PercentSalaryHike', 'PerformanceRating',\n",
              "       'RelationshipSatisfaction', 'StandardHours', 'StockOptionLevel',\n",
              "       'TotalWorkingYears', 'TrainingTimesLastYear', 'WorkLifeBalance',\n",
              "       'YearsAtCompany', 'YearsInCurrentRole', 'YearsSinceLastPromotion',\n",
              "       'YearsWithCurrManager'],\n",
              "      dtype='object')"
            ]
          },
          "execution_count": 8,
          "metadata": {},
          "output_type": "execute_result"
        }
      ],
      "source": [
        "#อันดับแรกเราต้องมาพิจารณาก่อนว่าข้อมูลไหนสามารถนำมาใช้งานได้บ้างโดยจะคัดมาจากทั้งหมด 35 คอลัมน์\n",
        "df.columns\n",
        "#'อายุ','การลาอออก','ความถี่ในการไปทำงานที่บริษัท','อัตราค่าจ้างรายวัน','แผนกที่ทำงาน','ระยะห่างระหว่างบ้านและบริษัท','ระดับการศึกษาจากเริ่มต้นถึงชำนาญ(1-5)'\n",
        "#'หลักสูตรที่จบมา','จำนวนพนักงาน?','หมายเลข ID พนักงาน','ระดับความพึงพอใจในสภาพแวดล้อมการทำงานตั้งแต่แย่จนถึงดีมาก(1-4)','เพศ','อัตรค่าจ้างรายชั่วโมง','ระดับความมีส่วนร่วมในงานตั้งแต่เท่าที่จำเป็นจนถึงมีส่วนร่วมทุกงาน(1-4)'\n",
        "#'ระดับของพนักงานตั้งแต่ junior ถึง manager(1-5)','ตำแหน่งงาน','ระดับความพึงพอใจในการทำงานตั้งแต่แย่จนถึงดีมาก(1-4)','สถานภาพการสมรส','รายรับที่มีต่อเดือน','อัตราค่าจ้างต่อเดือน','ผ่านการทำงานมากี่บริษัทแล้ว'\n",
        "#'อายุเกิน 18 ปีหรือไม่','ทำโอทีหรือไม่','อัตราเพิ่มเงินเดือน','คะแนนการประเมินพนักงานตั้งแต่ดีและเยี่ยม(3-4)','ระดับความสัมพันธ์ในที่ทำงาน(1-4)','การทำงานชั่วโมงต่อสัปดาห์','หุ้นที่พนักงานถือร่วมกับบริษัทอยู่'\n",
        "#'ทำงานมาทั้งหมดกี่ปี','ผ่านการฝึกงานมาแล้วกี่ปี','สมดุลการทำงาน(1-4)','บริษัทที่ทำงานอยู่ทำมากี่ปี','ทำหน้าที่นี้มากี่ปี','ได้รับการโปรโมตล่าสุดเมื่อไหร่','อยู่กับ manager คนปัจจุบันมากี่ปี'"
      ]
    },
    {
      "cell_type": "code",
      "execution_count": 9,
      "metadata": {
        "id": "fKUilLm61t_A"
      },
      "outputs": [],
      "source": [
        "#ทำการตัดคอลัมน์ที่ไม่ได้ใช้ในการวิเคราะห์\n",
        "df = df.drop(df.columns[[2, 3, 5, 6, 7, 8, 9, 11, 12, 17, 18, 20, 21, 26, 27, 29]], axis=1)\n",
        "#'อัตราค่าจ้างรายวัน & 'รายรับที่มีต่อเดือน' & 'อัตรค่าจ้างรายชั่วโมง' = เราจะใช้อัตราเงินเดือนเป็นตัวแทนของรายรับพนักงานทั้งหมดแทนในการทดสอบ\n",
        "#'ระดับการศึกษาจากเริ่มต้นถึงชำนาญ(1-5)','หลักสูตรที่จบมา','จำนวนพนักงาน?','หมายเลข ID พนักงาน','สถานภาพการสมรส','หุ้นที่พนักงานถือร่วมกับบริษัทอยู่','ผ่านการฝึกงานมาแล้วกี่ปี','ระยะห่างระหว่างบ้านและบริษัท','ความถี่ในการไปทำงานที่บริษัท' = เป็นข้อมูลไม่จำเป็น\n",
        "#'อายุเกิน 18 ปีหรือไม่','การทำงานชั่วโมงต่อสัปดาห์' = เป็นข้อมูลที่มีขนาดเท่ากัน"
      ]
    },
    {
      "cell_type": "code",
      "execution_count": 10,
      "metadata": {
        "colab": {
          "base_uri": "https://localhost:8080/",
          "height": 609
        },
        "id": "QyGERaRG53A6",
        "outputId": "cd47c741-4a51-4276-870a-0f2b749b4e21"
      },
      "outputs": [
        {
          "data": {
            "text/html": [
              "<div>\n",
              "<style scoped>\n",
              "    .dataframe tbody tr th:only-of-type {\n",
              "        vertical-align: middle;\n",
              "    }\n",
              "\n",
              "    .dataframe tbody tr th {\n",
              "        vertical-align: top;\n",
              "    }\n",
              "\n",
              "    .dataframe thead th {\n",
              "        text-align: right;\n",
              "    }\n",
              "</style>\n",
              "<table border=\"1\" class=\"dataframe\">\n",
              "  <thead>\n",
              "    <tr style=\"text-align: right;\">\n",
              "      <th></th>\n",
              "      <th>Age</th>\n",
              "      <th>Attrition</th>\n",
              "      <th>Department</th>\n",
              "      <th>EnvironmentSatisfaction</th>\n",
              "      <th>JobInvolvement</th>\n",
              "      <th>JobLevel</th>\n",
              "      <th>JobRole</th>\n",
              "      <th>JobSatisfaction</th>\n",
              "      <th>MonthlyRate</th>\n",
              "      <th>OverTime</th>\n",
              "      <th>PercentSalaryHike</th>\n",
              "      <th>PerformanceRating</th>\n",
              "      <th>RelationshipSatisfaction</th>\n",
              "      <th>TotalWorkingYears</th>\n",
              "      <th>WorkLifeBalance</th>\n",
              "      <th>YearsAtCompany</th>\n",
              "      <th>YearsInCurrentRole</th>\n",
              "      <th>YearsSinceLastPromotion</th>\n",
              "      <th>YearsWithCurrManager</th>\n",
              "    </tr>\n",
              "  </thead>\n",
              "  <tbody>\n",
              "    <tr>\n",
              "      <th>0</th>\n",
              "      <td>41</td>\n",
              "      <td>Yes</td>\n",
              "      <td>Sales</td>\n",
              "      <td>2</td>\n",
              "      <td>3</td>\n",
              "      <td>2</td>\n",
              "      <td>Sales Executive</td>\n",
              "      <td>4</td>\n",
              "      <td>19479</td>\n",
              "      <td>Yes</td>\n",
              "      <td>11</td>\n",
              "      <td>3</td>\n",
              "      <td>1</td>\n",
              "      <td>8</td>\n",
              "      <td>1</td>\n",
              "      <td>6</td>\n",
              "      <td>4</td>\n",
              "      <td>0</td>\n",
              "      <td>5</td>\n",
              "    </tr>\n",
              "    <tr>\n",
              "      <th>1</th>\n",
              "      <td>37</td>\n",
              "      <td>Yes</td>\n",
              "      <td>Research &amp; Development</td>\n",
              "      <td>4</td>\n",
              "      <td>2</td>\n",
              "      <td>1</td>\n",
              "      <td>Laboratory Technician</td>\n",
              "      <td>3</td>\n",
              "      <td>2396</td>\n",
              "      <td>Yes</td>\n",
              "      <td>15</td>\n",
              "      <td>3</td>\n",
              "      <td>2</td>\n",
              "      <td>7</td>\n",
              "      <td>3</td>\n",
              "      <td>0</td>\n",
              "      <td>0</td>\n",
              "      <td>0</td>\n",
              "      <td>0</td>\n",
              "    </tr>\n",
              "    <tr>\n",
              "      <th>2</th>\n",
              "      <td>28</td>\n",
              "      <td>Yes</td>\n",
              "      <td>Research &amp; Development</td>\n",
              "      <td>3</td>\n",
              "      <td>2</td>\n",
              "      <td>1</td>\n",
              "      <td>Laboratory Technician</td>\n",
              "      <td>3</td>\n",
              "      <td>12947</td>\n",
              "      <td>Yes</td>\n",
              "      <td>14</td>\n",
              "      <td>3</td>\n",
              "      <td>2</td>\n",
              "      <td>6</td>\n",
              "      <td>3</td>\n",
              "      <td>4</td>\n",
              "      <td>2</td>\n",
              "      <td>0</td>\n",
              "      <td>3</td>\n",
              "    </tr>\n",
              "    <tr>\n",
              "      <th>3</th>\n",
              "      <td>36</td>\n",
              "      <td>Yes</td>\n",
              "      <td>Sales</td>\n",
              "      <td>3</td>\n",
              "      <td>2</td>\n",
              "      <td>1</td>\n",
              "      <td>Sales Representative</td>\n",
              "      <td>1</td>\n",
              "      <td>6986</td>\n",
              "      <td>No</td>\n",
              "      <td>23</td>\n",
              "      <td>4</td>\n",
              "      <td>2</td>\n",
              "      <td>10</td>\n",
              "      <td>3</td>\n",
              "      <td>5</td>\n",
              "      <td>3</td>\n",
              "      <td>0</td>\n",
              "      <td>3</td>\n",
              "    </tr>\n",
              "    <tr>\n",
              "      <th>4</th>\n",
              "      <td>34</td>\n",
              "      <td>Yes</td>\n",
              "      <td>Research &amp; Development</td>\n",
              "      <td>2</td>\n",
              "      <td>3</td>\n",
              "      <td>1</td>\n",
              "      <td>Research Scientist</td>\n",
              "      <td>1</td>\n",
              "      <td>17102</td>\n",
              "      <td>No</td>\n",
              "      <td>11</td>\n",
              "      <td>3</td>\n",
              "      <td>3</td>\n",
              "      <td>8</td>\n",
              "      <td>3</td>\n",
              "      <td>4</td>\n",
              "      <td>2</td>\n",
              "      <td>1</td>\n",
              "      <td>3</td>\n",
              "    </tr>\n",
              "    <tr>\n",
              "      <th>...</th>\n",
              "      <td>...</td>\n",
              "      <td>...</td>\n",
              "      <td>...</td>\n",
              "      <td>...</td>\n",
              "      <td>...</td>\n",
              "      <td>...</td>\n",
              "      <td>...</td>\n",
              "      <td>...</td>\n",
              "      <td>...</td>\n",
              "      <td>...</td>\n",
              "      <td>...</td>\n",
              "      <td>...</td>\n",
              "      <td>...</td>\n",
              "      <td>...</td>\n",
              "      <td>...</td>\n",
              "      <td>...</td>\n",
              "      <td>...</td>\n",
              "      <td>...</td>\n",
              "      <td>...</td>\n",
              "    </tr>\n",
              "    <tr>\n",
              "      <th>494</th>\n",
              "      <td>23</td>\n",
              "      <td>Yes</td>\n",
              "      <td>Sales</td>\n",
              "      <td>4</td>\n",
              "      <td>3</td>\n",
              "      <td>1</td>\n",
              "      <td>Sales Representative</td>\n",
              "      <td>1</td>\n",
              "      <td>26956</td>\n",
              "      <td>No</td>\n",
              "      <td>19</td>\n",
              "      <td>3</td>\n",
              "      <td>1</td>\n",
              "      <td>1</td>\n",
              "      <td>2</td>\n",
              "      <td>1</td>\n",
              "      <td>0</td>\n",
              "      <td>1</td>\n",
              "      <td>0</td>\n",
              "    </tr>\n",
              "    <tr>\n",
              "      <th>495</th>\n",
              "      <td>29</td>\n",
              "      <td>Yes</td>\n",
              "      <td>Research &amp; Development</td>\n",
              "      <td>1</td>\n",
              "      <td>3</td>\n",
              "      <td>1</td>\n",
              "      <td>Research Scientist</td>\n",
              "      <td>4</td>\n",
              "      <td>26124</td>\n",
              "      <td>Yes</td>\n",
              "      <td>14</td>\n",
              "      <td>3</td>\n",
              "      <td>2</td>\n",
              "      <td>4</td>\n",
              "      <td>4</td>\n",
              "      <td>2</td>\n",
              "      <td>2</td>\n",
              "      <td>2</td>\n",
              "      <td>2</td>\n",
              "    </tr>\n",
              "    <tr>\n",
              "      <th>496</th>\n",
              "      <td>56</td>\n",
              "      <td>Yes</td>\n",
              "      <td>Research &amp; Development</td>\n",
              "      <td>4</td>\n",
              "      <td>3</td>\n",
              "      <td>1</td>\n",
              "      <td>Laboratory Technician</td>\n",
              "      <td>3</td>\n",
              "      <td>3666</td>\n",
              "      <td>No</td>\n",
              "      <td>11</td>\n",
              "      <td>3</td>\n",
              "      <td>4</td>\n",
              "      <td>14</td>\n",
              "      <td>1</td>\n",
              "      <td>10</td>\n",
              "      <td>9</td>\n",
              "      <td>9</td>\n",
              "      <td>8</td>\n",
              "    </tr>\n",
              "    <tr>\n",
              "      <th>497</th>\n",
              "      <td>50</td>\n",
              "      <td>Yes</td>\n",
              "      <td>Sales</td>\n",
              "      <td>2</td>\n",
              "      <td>3</td>\n",
              "      <td>2</td>\n",
              "      <td>Sales Executive</td>\n",
              "      <td>3</td>\n",
              "      <td>14255</td>\n",
              "      <td>No</td>\n",
              "      <td>12</td>\n",
              "      <td>3</td>\n",
              "      <td>4</td>\n",
              "      <td>12</td>\n",
              "      <td>3</td>\n",
              "      <td>6</td>\n",
              "      <td>3</td>\n",
              "      <td>0</td>\n",
              "      <td>1</td>\n",
              "    </tr>\n",
              "    <tr>\n",
              "      <th>498</th>\n",
              "      <td>50</td>\n",
              "      <td>Yes</td>\n",
              "      <td>Sales</td>\n",
              "      <td>4</td>\n",
              "      <td>2</td>\n",
              "      <td>3</td>\n",
              "      <td>Sales Executive</td>\n",
              "      <td>1</td>\n",
              "      <td>16586</td>\n",
              "      <td>Yes</td>\n",
              "      <td>13</td>\n",
              "      <td>3</td>\n",
              "      <td>2</td>\n",
              "      <td>20</td>\n",
              "      <td>3</td>\n",
              "      <td>3</td>\n",
              "      <td>2</td>\n",
              "      <td>2</td>\n",
              "      <td>0</td>\n",
              "    </tr>\n",
              "  </tbody>\n",
              "</table>\n",
              "<p>499 rows × 19 columns</p>\n",
              "</div>"
            ],
            "text/plain": [
              "     Age Attrition              Department  EnvironmentSatisfaction  \\\n",
              "0     41       Yes                   Sales                        2   \n",
              "1     37       Yes  Research & Development                        4   \n",
              "2     28       Yes  Research & Development                        3   \n",
              "3     36       Yes                   Sales                        3   \n",
              "4     34       Yes  Research & Development                        2   \n",
              "..   ...       ...                     ...                      ...   \n",
              "494   23       Yes                   Sales                        4   \n",
              "495   29       Yes  Research & Development                        1   \n",
              "496   56       Yes  Research & Development                        4   \n",
              "497   50       Yes                   Sales                        2   \n",
              "498   50       Yes                   Sales                        4   \n",
              "\n",
              "     JobInvolvement  JobLevel                JobRole  JobSatisfaction  \\\n",
              "0                 3         2        Sales Executive                4   \n",
              "1                 2         1  Laboratory Technician                3   \n",
              "2                 2         1  Laboratory Technician                3   \n",
              "3                 2         1   Sales Representative                1   \n",
              "4                 3         1     Research Scientist                1   \n",
              "..              ...       ...                    ...              ...   \n",
              "494               3         1   Sales Representative                1   \n",
              "495               3         1     Research Scientist                4   \n",
              "496               3         1  Laboratory Technician                3   \n",
              "497               3         2        Sales Executive                3   \n",
              "498               2         3        Sales Executive                1   \n",
              "\n",
              "     MonthlyRate OverTime  PercentSalaryHike  PerformanceRating  \\\n",
              "0          19479      Yes                 11                  3   \n",
              "1           2396      Yes                 15                  3   \n",
              "2          12947      Yes                 14                  3   \n",
              "3           6986       No                 23                  4   \n",
              "4          17102       No                 11                  3   \n",
              "..           ...      ...                ...                ...   \n",
              "494        26956       No                 19                  3   \n",
              "495        26124      Yes                 14                  3   \n",
              "496         3666       No                 11                  3   \n",
              "497        14255       No                 12                  3   \n",
              "498        16586      Yes                 13                  3   \n",
              "\n",
              "     RelationshipSatisfaction  TotalWorkingYears  WorkLifeBalance  \\\n",
              "0                           1                  8                1   \n",
              "1                           2                  7                3   \n",
              "2                           2                  6                3   \n",
              "3                           2                 10                3   \n",
              "4                           3                  8                3   \n",
              "..                        ...                ...              ...   \n",
              "494                         1                  1                2   \n",
              "495                         2                  4                4   \n",
              "496                         4                 14                1   \n",
              "497                         4                 12                3   \n",
              "498                         2                 20                3   \n",
              "\n",
              "     YearsAtCompany  YearsInCurrentRole  YearsSinceLastPromotion  \\\n",
              "0                 6                   4                        0   \n",
              "1                 0                   0                        0   \n",
              "2                 4                   2                        0   \n",
              "3                 5                   3                        0   \n",
              "4                 4                   2                        1   \n",
              "..              ...                 ...                      ...   \n",
              "494               1                   0                        1   \n",
              "495               2                   2                        2   \n",
              "496              10                   9                        9   \n",
              "497               6                   3                        0   \n",
              "498               3                   2                        2   \n",
              "\n",
              "     YearsWithCurrManager  \n",
              "0                       5  \n",
              "1                       0  \n",
              "2                       3  \n",
              "3                       3  \n",
              "4                       3  \n",
              "..                    ...  \n",
              "494                     0  \n",
              "495                     2  \n",
              "496                     8  \n",
              "497                     1  \n",
              "498                     0  \n",
              "\n",
              "[499 rows x 19 columns]"
            ]
          },
          "execution_count": 10,
          "metadata": {},
          "output_type": "execute_result"
        }
      ],
      "source": [
        "df #ชุดข้อมูลใหม่ที่แก้ไขแล้ว"
      ]
    },
    {
      "cell_type": "code",
      "execution_count": 11,
      "metadata": {
        "colab": {
          "base_uri": "https://localhost:8080/"
        },
        "id": "OyEijGdEBhon",
        "outputId": "8faf4239-4361-4c39-dfa9-0d1901a743ca"
      },
      "outputs": [
        {
          "data": {
            "text/plain": [
              "Index(['Age', 'Attrition', 'Department', 'EnvironmentSatisfaction',\n",
              "       'JobInvolvement', 'JobLevel', 'JobRole', 'JobSatisfaction',\n",
              "       'MonthlyRate', 'OverTime', 'PercentSalaryHike', 'PerformanceRating',\n",
              "       'RelationshipSatisfaction', 'TotalWorkingYears', 'WorkLifeBalance',\n",
              "       'YearsAtCompany', 'YearsInCurrentRole', 'YearsSinceLastPromotion',\n",
              "       'YearsWithCurrManager'],\n",
              "      dtype='object')"
            ]
          },
          "execution_count": 11,
          "metadata": {},
          "output_type": "execute_result"
        }
      ],
      "source": [
        "df.columns"
      ]
    },
    {
      "cell_type": "markdown",
      "metadata": {
        "id": "gSCYsINg5w83"
      },
      "source": [
        "###4.2 เช็ค Data"
      ]
    },
    {
      "cell_type": "code",
      "execution_count": 12,
      "metadata": {
        "colab": {
          "base_uri": "https://localhost:8080/",
          "height": 317
        },
        "id": "fsL5t5cjoG-V",
        "outputId": "894b399b-a2bd-444e-d071-ddc582ac0f25"
      },
      "outputs": [
        {
          "data": {
            "text/html": [
              "<div>\n",
              "<style scoped>\n",
              "    .dataframe tbody tr th:only-of-type {\n",
              "        vertical-align: middle;\n",
              "    }\n",
              "\n",
              "    .dataframe tbody tr th {\n",
              "        vertical-align: top;\n",
              "    }\n",
              "\n",
              "    .dataframe thead th {\n",
              "        text-align: right;\n",
              "    }\n",
              "</style>\n",
              "<table border=\"1\" class=\"dataframe\">\n",
              "  <thead>\n",
              "    <tr style=\"text-align: right;\">\n",
              "      <th></th>\n",
              "      <th>Age</th>\n",
              "      <th>EnvironmentSatisfaction</th>\n",
              "      <th>JobInvolvement</th>\n",
              "      <th>JobLevel</th>\n",
              "      <th>JobSatisfaction</th>\n",
              "      <th>MonthlyRate</th>\n",
              "      <th>PercentSalaryHike</th>\n",
              "      <th>PerformanceRating</th>\n",
              "      <th>RelationshipSatisfaction</th>\n",
              "      <th>TotalWorkingYears</th>\n",
              "      <th>WorkLifeBalance</th>\n",
              "      <th>YearsAtCompany</th>\n",
              "      <th>YearsInCurrentRole</th>\n",
              "      <th>YearsSinceLastPromotion</th>\n",
              "      <th>YearsWithCurrManager</th>\n",
              "    </tr>\n",
              "  </thead>\n",
              "  <tbody>\n",
              "    <tr>\n",
              "      <th>count</th>\n",
              "      <td>499.000000</td>\n",
              "      <td>499.000000</td>\n",
              "      <td>499.000000</td>\n",
              "      <td>499.000000</td>\n",
              "      <td>499.000000</td>\n",
              "      <td>499.000000</td>\n",
              "      <td>499.000000</td>\n",
              "      <td>499.000000</td>\n",
              "      <td>499.000000</td>\n",
              "      <td>499.000000</td>\n",
              "      <td>499.000000</td>\n",
              "      <td>499.000000</td>\n",
              "      <td>499.000000</td>\n",
              "      <td>499.000000</td>\n",
              "      <td>499.000000</td>\n",
              "    </tr>\n",
              "    <tr>\n",
              "      <th>mean</th>\n",
              "      <td>35.607214</td>\n",
              "      <td>2.609218</td>\n",
              "      <td>2.641283</td>\n",
              "      <td>1.879760</td>\n",
              "      <td>2.613226</td>\n",
              "      <td>14468.394790</td>\n",
              "      <td>15.176353</td>\n",
              "      <td>3.152305</td>\n",
              "      <td>2.711423</td>\n",
              "      <td>10.038076</td>\n",
              "      <td>2.717435</td>\n",
              "      <td>6.182365</td>\n",
              "      <td>3.643287</td>\n",
              "      <td>2.122244</td>\n",
              "      <td>3.631263</td>\n",
              "    </tr>\n",
              "    <tr>\n",
              "      <th>std</th>\n",
              "      <td>9.148816</td>\n",
              "      <td>1.120095</td>\n",
              "      <td>0.761511</td>\n",
              "      <td>1.042072</td>\n",
              "      <td>1.116104</td>\n",
              "      <td>7367.089193</td>\n",
              "      <td>3.646113</td>\n",
              "      <td>0.359676</td>\n",
              "      <td>1.085173</td>\n",
              "      <td>7.462123</td>\n",
              "      <td>0.756708</td>\n",
              "      <td>6.000068</td>\n",
              "      <td>3.523446</td>\n",
              "      <td>3.158320</td>\n",
              "      <td>3.395648</td>\n",
              "    </tr>\n",
              "    <tr>\n",
              "      <th>min</th>\n",
              "      <td>18.000000</td>\n",
              "      <td>1.000000</td>\n",
              "      <td>1.000000</td>\n",
              "      <td>1.000000</td>\n",
              "      <td>1.000000</td>\n",
              "      <td>2094.000000</td>\n",
              "      <td>11.000000</td>\n",
              "      <td>3.000000</td>\n",
              "      <td>1.000000</td>\n",
              "      <td>0.000000</td>\n",
              "      <td>1.000000</td>\n",
              "      <td>0.000000</td>\n",
              "      <td>0.000000</td>\n",
              "      <td>0.000000</td>\n",
              "      <td>0.000000</td>\n",
              "    </tr>\n",
              "    <tr>\n",
              "      <th>25%</th>\n",
              "      <td>29.000000</td>\n",
              "      <td>2.000000</td>\n",
              "      <td>2.000000</td>\n",
              "      <td>1.000000</td>\n",
              "      <td>2.000000</td>\n",
              "      <td>7944.500000</td>\n",
              "      <td>12.000000</td>\n",
              "      <td>3.000000</td>\n",
              "      <td>2.000000</td>\n",
              "      <td>5.000000</td>\n",
              "      <td>2.000000</td>\n",
              "      <td>2.000000</td>\n",
              "      <td>1.000000</td>\n",
              "      <td>0.000000</td>\n",
              "      <td>1.000000</td>\n",
              "    </tr>\n",
              "    <tr>\n",
              "      <th>50%</th>\n",
              "      <td>34.000000</td>\n",
              "      <td>3.000000</td>\n",
              "      <td>3.000000</td>\n",
              "      <td>2.000000</td>\n",
              "      <td>3.000000</td>\n",
              "      <td>14511.000000</td>\n",
              "      <td>14.000000</td>\n",
              "      <td>3.000000</td>\n",
              "      <td>3.000000</td>\n",
              "      <td>9.000000</td>\n",
              "      <td>3.000000</td>\n",
              "      <td>5.000000</td>\n",
              "      <td>2.000000</td>\n",
              "      <td>1.000000</td>\n",
              "      <td>2.000000</td>\n",
              "    </tr>\n",
              "    <tr>\n",
              "      <th>75%</th>\n",
              "      <td>42.000000</td>\n",
              "      <td>4.000000</td>\n",
              "      <td>3.000000</td>\n",
              "      <td>2.000000</td>\n",
              "      <td>4.000000</td>\n",
              "      <td>21081.500000</td>\n",
              "      <td>17.500000</td>\n",
              "      <td>3.000000</td>\n",
              "      <td>4.000000</td>\n",
              "      <td>12.000000</td>\n",
              "      <td>3.000000</td>\n",
              "      <td>9.000000</td>\n",
              "      <td>7.000000</td>\n",
              "      <td>2.000000</td>\n",
              "      <td>7.000000</td>\n",
              "    </tr>\n",
              "    <tr>\n",
              "      <th>max</th>\n",
              "      <td>60.000000</td>\n",
              "      <td>4.000000</td>\n",
              "      <td>4.000000</td>\n",
              "      <td>5.000000</td>\n",
              "      <td>4.000000</td>\n",
              "      <td>26999.000000</td>\n",
              "      <td>25.000000</td>\n",
              "      <td>4.000000</td>\n",
              "      <td>4.000000</td>\n",
              "      <td>40.000000</td>\n",
              "      <td>4.000000</td>\n",
              "      <td>40.000000</td>\n",
              "      <td>17.000000</td>\n",
              "      <td>15.000000</td>\n",
              "      <td>17.000000</td>\n",
              "    </tr>\n",
              "  </tbody>\n",
              "</table>\n",
              "</div>"
            ],
            "text/plain": [
              "              Age  EnvironmentSatisfaction  JobInvolvement    JobLevel  \\\n",
              "count  499.000000               499.000000      499.000000  499.000000   \n",
              "mean    35.607214                 2.609218        2.641283    1.879760   \n",
              "std      9.148816                 1.120095        0.761511    1.042072   \n",
              "min     18.000000                 1.000000        1.000000    1.000000   \n",
              "25%     29.000000                 2.000000        2.000000    1.000000   \n",
              "50%     34.000000                 3.000000        3.000000    2.000000   \n",
              "75%     42.000000                 4.000000        3.000000    2.000000   \n",
              "max     60.000000                 4.000000        4.000000    5.000000   \n",
              "\n",
              "       JobSatisfaction   MonthlyRate  PercentSalaryHike  PerformanceRating  \\\n",
              "count       499.000000    499.000000         499.000000         499.000000   \n",
              "mean          2.613226  14468.394790          15.176353           3.152305   \n",
              "std           1.116104   7367.089193           3.646113           0.359676   \n",
              "min           1.000000   2094.000000          11.000000           3.000000   \n",
              "25%           2.000000   7944.500000          12.000000           3.000000   \n",
              "50%           3.000000  14511.000000          14.000000           3.000000   \n",
              "75%           4.000000  21081.500000          17.500000           3.000000   \n",
              "max           4.000000  26999.000000          25.000000           4.000000   \n",
              "\n",
              "       RelationshipSatisfaction  TotalWorkingYears  WorkLifeBalance  \\\n",
              "count                499.000000         499.000000       499.000000   \n",
              "mean                   2.711423          10.038076         2.717435   \n",
              "std                    1.085173           7.462123         0.756708   \n",
              "min                    1.000000           0.000000         1.000000   \n",
              "25%                    2.000000           5.000000         2.000000   \n",
              "50%                    3.000000           9.000000         3.000000   \n",
              "75%                    4.000000          12.000000         3.000000   \n",
              "max                    4.000000          40.000000         4.000000   \n",
              "\n",
              "       YearsAtCompany  YearsInCurrentRole  YearsSinceLastPromotion  \\\n",
              "count      499.000000          499.000000               499.000000   \n",
              "mean         6.182365            3.643287                 2.122244   \n",
              "std          6.000068            3.523446                 3.158320   \n",
              "min          0.000000            0.000000                 0.000000   \n",
              "25%          2.000000            1.000000                 0.000000   \n",
              "50%          5.000000            2.000000                 1.000000   \n",
              "75%          9.000000            7.000000                 2.000000   \n",
              "max         40.000000           17.000000                15.000000   \n",
              "\n",
              "       YearsWithCurrManager  \n",
              "count            499.000000  \n",
              "mean               3.631263  \n",
              "std                3.395648  \n",
              "min                0.000000  \n",
              "25%                1.000000  \n",
              "50%                2.000000  \n",
              "75%                7.000000  \n",
              "max               17.000000  "
            ]
          },
          "execution_count": 12,
          "metadata": {},
          "output_type": "execute_result"
        }
      ],
      "source": [
        "df.describe()\n",
        "#มีข้อมูลพนักงานทั้งหมด 1470 คน\n",
        "#อายุเฉลี่ยอยู่ที่ 36 ปี มีอายุตั้งแต่ 18 - 60 ปี"
      ]
    },
    {
      "cell_type": "code",
      "execution_count": 13,
      "metadata": {
        "id": "sBOSnD_jh9_z"
      },
      "outputs": [],
      "source": [
        "import matplotlib.pyplot as plt\n",
        "import seaborn as sns"
      ]
    },
    {
      "cell_type": "code",
      "execution_count": 14,
      "metadata": {
        "colab": {
          "base_uri": "https://localhost:8080/",
          "height": 647
        },
        "id": "efgVRtFliJxe",
        "outputId": "42b57614-ff04-422c-a985-499ae7830da4"
      },
      "outputs": [
        {
          "name": "stderr",
          "output_type": "stream",
          "text": [
            "/Library/Frameworks/Python.framework/Versions/3.10/lib/python3.10/site-packages/seaborn/_oldcore.py:1498: FutureWarning: is_categorical_dtype is deprecated and will be removed in a future version. Use isinstance(dtype, CategoricalDtype) instead\n",
            "  if pd.api.types.is_categorical_dtype(vector):\n",
            "/Library/Frameworks/Python.framework/Versions/3.10/lib/python3.10/site-packages/seaborn/_oldcore.py:1498: FutureWarning: is_categorical_dtype is deprecated and will be removed in a future version. Use isinstance(dtype, CategoricalDtype) instead\n",
            "  if pd.api.types.is_categorical_dtype(vector):\n",
            "/Library/Frameworks/Python.framework/Versions/3.10/lib/python3.10/site-packages/IPython/core/pylabtools.py:152: UserWarning: Glyph 3592 (\\N{THAI CHARACTER CHO CHAN}) missing from current font.\n",
            "  fig.canvas.print_figure(bytes_io, **kw)\n",
            "/Library/Frameworks/Python.framework/Versions/3.10/lib/python3.10/site-packages/IPython/core/pylabtools.py:152: UserWarning: Glyph 3635 (\\N{THAI CHARACTER SARA AM}) missing from current font.\n",
            "  fig.canvas.print_figure(bytes_io, **kw)\n",
            "/Library/Frameworks/Python.framework/Versions/3.10/lib/python3.10/site-packages/IPython/core/pylabtools.py:152: UserWarning: Glyph 3609 (\\N{THAI CHARACTER NO NU}) missing from current font.\n",
            "  fig.canvas.print_figure(bytes_io, **kw)\n",
            "/Library/Frameworks/Python.framework/Versions/3.10/lib/python3.10/site-packages/IPython/core/pylabtools.py:152: UserWarning: Glyph 3623 (\\N{THAI CHARACTER WO WAEN}) missing from current font.\n",
            "  fig.canvas.print_figure(bytes_io, **kw)\n",
            "/Library/Frameworks/Python.framework/Versions/3.10/lib/python3.10/site-packages/IPython/core/pylabtools.py:152: UserWarning: Glyph 3585 (\\N{THAI CHARACTER KO KAI}) missing from current font.\n",
            "  fig.canvas.print_figure(bytes_io, **kw)\n",
            "/Library/Frameworks/Python.framework/Versions/3.10/lib/python3.10/site-packages/IPython/core/pylabtools.py:152: UserWarning: Glyph 3634 (\\N{THAI CHARACTER SARA AA}) missing from current font.\n",
            "  fig.canvas.print_figure(bytes_io, **kw)\n",
            "/Library/Frameworks/Python.framework/Versions/3.10/lib/python3.10/site-packages/IPython/core/pylabtools.py:152: UserWarning: Glyph 3619 (\\N{THAI CHARACTER RO RUA}) missing from current font.\n",
            "  fig.canvas.print_figure(bytes_io, **kw)\n",
            "/Library/Frameworks/Python.framework/Versions/3.10/lib/python3.10/site-packages/IPython/core/pylabtools.py:152: UserWarning: Glyph 3621 (\\N{THAI CHARACTER LO LING}) missing from current font.\n",
            "  fig.canvas.print_figure(bytes_io, **kw)\n",
            "/Library/Frameworks/Python.framework/Versions/3.10/lib/python3.10/site-packages/IPython/core/pylabtools.py:152: UserWarning: Glyph 3629 (\\N{THAI CHARACTER O ANG}) missing from current font.\n",
            "  fig.canvas.print_figure(bytes_io, **kw)\n",
            "/Library/Frameworks/Python.framework/Versions/3.10/lib/python3.10/site-packages/IPython/core/pylabtools.py:152: UserWarning: Glyph 3649 (\\N{THAI CHARACTER SARA AE}) missing from current font.\n",
            "  fig.canvas.print_figure(bytes_io, **kw)\n",
            "/Library/Frameworks/Python.framework/Versions/3.10/lib/python3.10/site-packages/IPython/core/pylabtools.py:152: UserWarning: Glyph 3632 (\\N{THAI CHARACTER SARA A}) missing from current font.\n",
            "  fig.canvas.print_figure(bytes_io, **kw)\n",
            "/Library/Frameworks/Python.framework/Versions/3.10/lib/python3.10/site-packages/IPython/core/pylabtools.py:152: UserWarning: Glyph 3607 (\\N{THAI CHARACTER THO THAHAN}) missing from current font.\n",
            "  fig.canvas.print_figure(bytes_io, **kw)\n",
            "/Library/Frameworks/Python.framework/Versions/3.10/lib/python3.10/site-packages/IPython/core/pylabtools.py:152: UserWarning: Glyph 3591 (\\N{THAI CHARACTER NGO NGU}) missing from current font.\n",
            "  fig.canvas.print_figure(bytes_io, **kw)\n",
            "/Library/Frameworks/Python.framework/Versions/3.10/lib/python3.10/site-packages/IPython/core/pylabtools.py:152: UserWarning: Glyph 3605 (\\N{THAI CHARACTER TO TAO}) missing from current font.\n",
            "  fig.canvas.print_figure(bytes_io, **kw)\n",
            "/Library/Frameworks/Python.framework/Versions/3.10/lib/python3.10/site-packages/IPython/core/pylabtools.py:152: UserWarning: Glyph 3656 (\\N{THAI CHARACTER MAI EK}) missing from current font.\n",
            "  fig.canvas.print_figure(bytes_io, **kw)\n",
            "/Library/Frameworks/Python.framework/Versions/3.10/lib/python3.10/site-packages/IPython/core/pylabtools.py:152: UserWarning: Glyph 3586 (\\N{THAI CHARACTER KHO KHAI}) missing from current font.\n",
            "  fig.canvas.print_figure(bytes_io, **kw)\n",
            "/Library/Frameworks/Python.framework/Versions/3.10/lib/python3.10/site-packages/IPython/core/pylabtools.py:152: UserWarning: Glyph 3614 (\\N{THAI CHARACTER PHO PHAN}) missing from current font.\n",
            "  fig.canvas.print_figure(bytes_io, **kw)\n",
            "/Library/Frameworks/Python.framework/Versions/3.10/lib/python3.10/site-packages/IPython/core/pylabtools.py:152: UserWarning: Glyph 3633 (\\N{THAI CHARACTER MAI HAN-AKAT}) missing from current font.\n",
            "  fig.canvas.print_figure(bytes_io, **kw)\n"
          ]
        },
        {
          "data": {
            "image/png": "[encoded data removed]",
            "text/plain": [
              "<Figure size 500x700 with 1 Axes>"
            ]
          },
          "metadata": {},
          "output_type": "display_data"
        }
      ],
      "source": [
        "plt.figure(figsize=(5,7))\n",
        "plt.title('จำนวนการลาออกและการทำงานต่อของพนักงาน')\n",
        "ax = sns.countplot( data=df , x='Attrition', order=df['Attrition'].value_counts().index )\n",
        "\n",
        "abs_values = df['Attrition'].value_counts().values\n",
        "ax.bar_label(container=ax.containers[0], labels=abs_values)\n",
        "plt.show()\n",
        "\n",
        "#ยังคงทำงานอยู่ 262 คน ข้อมูลทดสอบ\n",
        "#ลาออกไปแล้ว 237 คน ผลเฉลย"
      ]
    },
    {
      "cell_type": "code",
      "execution_count": 15,
      "metadata": {
        "colab": {
          "base_uri": "https://localhost:8080/",
          "height": 651
        },
        "id": "5wvGof4hi9gW",
        "outputId": "af7774d6-5090-4484-cdc3-2a0364bea4e0"
      },
      "outputs": [
        {
          "name": "stderr",
          "output_type": "stream",
          "text": [
            "/Library/Frameworks/Python.framework/Versions/3.10/lib/python3.10/site-packages/seaborn/_oldcore.py:1498: FutureWarning: is_categorical_dtype is deprecated and will be removed in a future version. Use isinstance(dtype, CategoricalDtype) instead\n",
            "  if pd.api.types.is_categorical_dtype(vector):\n",
            "/Library/Frameworks/Python.framework/Versions/3.10/lib/python3.10/site-packages/seaborn/_oldcore.py:1498: FutureWarning: is_categorical_dtype is deprecated and will be removed in a future version. Use isinstance(dtype, CategoricalDtype) instead\n",
            "  if pd.api.types.is_categorical_dtype(vector):\n",
            "/Library/Frameworks/Python.framework/Versions/3.10/lib/python3.10/site-packages/IPython/core/pylabtools.py:152: UserWarning: Glyph 3592 (\\N{THAI CHARACTER CHO CHAN}) missing from current font.\n",
            "  fig.canvas.print_figure(bytes_io, **kw)\n",
            "/Library/Frameworks/Python.framework/Versions/3.10/lib/python3.10/site-packages/IPython/core/pylabtools.py:152: UserWarning: Glyph 3635 (\\N{THAI CHARACTER SARA AM}) missing from current font.\n",
            "  fig.canvas.print_figure(bytes_io, **kw)\n",
            "/Library/Frameworks/Python.framework/Versions/3.10/lib/python3.10/site-packages/IPython/core/pylabtools.py:152: UserWarning: Glyph 3609 (\\N{THAI CHARACTER NO NU}) missing from current font.\n",
            "  fig.canvas.print_figure(bytes_io, **kw)\n",
            "/Library/Frameworks/Python.framework/Versions/3.10/lib/python3.10/site-packages/IPython/core/pylabtools.py:152: UserWarning: Glyph 3623 (\\N{THAI CHARACTER WO WAEN}) missing from current font.\n",
            "  fig.canvas.print_figure(bytes_io, **kw)\n",
            "/Library/Frameworks/Python.framework/Versions/3.10/lib/python3.10/site-packages/IPython/core/pylabtools.py:152: UserWarning: Glyph 3585 (\\N{THAI CHARACTER KO KAI}) missing from current font.\n",
            "  fig.canvas.print_figure(bytes_io, **kw)\n",
            "/Library/Frameworks/Python.framework/Versions/3.10/lib/python3.10/site-packages/IPython/core/pylabtools.py:152: UserWarning: Glyph 3621 (\\N{THAI CHARACTER LO LING}) missing from current font.\n",
            "  fig.canvas.print_figure(bytes_io, **kw)\n",
            "/Library/Frameworks/Python.framework/Versions/3.10/lib/python3.10/site-packages/IPython/core/pylabtools.py:152: UserWarning: Glyph 3640 (\\N{THAI CHARACTER SARA U}) missing from current font.\n",
            "  fig.canvas.print_figure(bytes_io, **kw)\n",
            "/Library/Frameworks/Python.framework/Versions/3.10/lib/python3.10/site-packages/IPython/core/pylabtools.py:152: UserWarning: Glyph 3656 (\\N{THAI CHARACTER MAI EK}) missing from current font.\n",
            "  fig.canvas.print_figure(bytes_io, **kw)\n",
            "/Library/Frameworks/Python.framework/Versions/3.10/lib/python3.10/site-packages/IPython/core/pylabtools.py:152: UserWarning: Glyph 3617 (\\N{THAI CHARACTER MO MA}) missing from current font.\n",
            "  fig.canvas.print_figure(bytes_io, **kw)\n",
            "/Library/Frameworks/Python.framework/Versions/3.10/lib/python3.10/site-packages/IPython/core/pylabtools.py:152: UserWarning: Glyph 3605 (\\N{THAI CHARACTER TO TAO}) missing from current font.\n",
            "  fig.canvas.print_figure(bytes_io, **kw)\n",
            "/Library/Frameworks/Python.framework/Versions/3.10/lib/python3.10/site-packages/IPython/core/pylabtools.py:152: UserWarning: Glyph 3633 (\\N{THAI CHARACTER MAI HAN-AKAT}) missing from current font.\n",
            "  fig.canvas.print_figure(bytes_io, **kw)\n",
            "/Library/Frameworks/Python.framework/Versions/3.10/lib/python3.10/site-packages/IPython/core/pylabtools.py:152: UserWarning: Glyph 3629 (\\N{THAI CHARACTER O ANG}) missing from current font.\n",
            "  fig.canvas.print_figure(bytes_io, **kw)\n",
            "/Library/Frameworks/Python.framework/Versions/3.10/lib/python3.10/site-packages/IPython/core/pylabtools.py:152: UserWarning: Glyph 3618 (\\N{THAI CHARACTER YO YAK}) missing from current font.\n",
            "  fig.canvas.print_figure(bytes_io, **kw)\n",
            "/Library/Frameworks/Python.framework/Versions/3.10/lib/python3.10/site-packages/IPython/core/pylabtools.py:152: UserWarning: Glyph 3634 (\\N{THAI CHARACTER SARA AA}) missing from current font.\n",
            "  fig.canvas.print_figure(bytes_io, **kw)\n",
            "/Library/Frameworks/Python.framework/Versions/3.10/lib/python3.10/site-packages/IPython/core/pylabtools.py:152: UserWarning: Glyph 3591 (\\N{THAI CHARACTER NGO NGU}) missing from current font.\n",
            "  fig.canvas.print_figure(bytes_io, **kw)\n",
            "/Library/Frameworks/Python.framework/Versions/3.10/lib/python3.10/site-packages/IPython/core/pylabtools.py:152: UserWarning: Glyph 3614 (\\N{THAI CHARACTER PHO PHAN}) missing from current font.\n",
            "  fig.canvas.print_figure(bytes_io, **kw)\n",
            "/Library/Frameworks/Python.framework/Versions/3.10/lib/python3.10/site-packages/IPython/core/pylabtools.py:152: UserWarning: Glyph 3651 (\\N{THAI CHARACTER SARA AI MAIMUAN}) missing from current font.\n",
            "  fig.canvas.print_figure(bytes_io, **kw)\n",
            "/Library/Frameworks/Python.framework/Versions/3.10/lib/python3.10/site-packages/IPython/core/pylabtools.py:152: UserWarning: Glyph 3649 (\\N{THAI CHARACTER SARA AE}) missing from current font.\n",
            "  fig.canvas.print_figure(bytes_io, **kw)\n",
            "/Library/Frameworks/Python.framework/Versions/3.10/lib/python3.10/site-packages/IPython/core/pylabtools.py:152: UserWarning: Glyph 3632 (\\N{THAI CHARACTER SARA A}) missing from current font.\n",
            "  fig.canvas.print_figure(bytes_io, **kw)\n",
            "/Library/Frameworks/Python.framework/Versions/3.10/lib/python3.10/site-packages/IPython/core/pylabtools.py:152: UserWarning: Glyph 3612 (\\N{THAI CHARACTER PHO PHUNG}) missing from current font.\n",
            "  fig.canvas.print_figure(bytes_io, **kw)\n"
          ]
        },
        {
          "data": {
            "image/png": "[encoded data removed]",
            "text/plain": [
              "<Figure size 900x700 with 1 Axes>"
            ]
          },
          "metadata": {},
          "output_type": "display_data"
        }
      ],
      "source": [
        "plt.figure(figsize=(9,7))\n",
        "plt.title('จำนวนกลุ่มตัวอย่างพนักงานในแต่ละแผนก')\n",
        "ax = sns.countplot( data=df , x='Department', order=df['Department'].value_counts().index )\n",
        "\n",
        "abs_values = df['Department'].value_counts().values\n",
        "ax.bar_label(container=ax.containers[0], labels=abs_values)\n",
        "plt.show()"
      ]
    },
    {
      "cell_type": "code",
      "execution_count": 16,
      "metadata": {
        "colab": {
          "base_uri": "https://localhost:8080/",
          "height": 604
        },
        "id": "q5UjvhproQNG",
        "outputId": "46ef5e8f-73ad-4449-ac9a-c5617da16add"
      },
      "outputs": [
        {
          "name": "stderr",
          "output_type": "stream",
          "text": [
            "/Library/Frameworks/Python.framework/Versions/3.10/lib/python3.10/site-packages/seaborn/_oldcore.py:1498: FutureWarning: is_categorical_dtype is deprecated and will be removed in a future version. Use isinstance(dtype, CategoricalDtype) instead\n",
            "  if pd.api.types.is_categorical_dtype(vector):\n",
            "/Library/Frameworks/Python.framework/Versions/3.10/lib/python3.10/site-packages/seaborn/_oldcore.py:1498: FutureWarning: is_categorical_dtype is deprecated and will be removed in a future version. Use isinstance(dtype, CategoricalDtype) instead\n",
            "  if pd.api.types.is_categorical_dtype(vector):\n",
            "/Library/Frameworks/Python.framework/Versions/3.10/lib/python3.10/site-packages/IPython/core/pylabtools.py:152: UserWarning: Glyph 3592 (\\N{THAI CHARACTER CHO CHAN}) missing from current font.\n",
            "  fig.canvas.print_figure(bytes_io, **kw)\n",
            "/Library/Frameworks/Python.framework/Versions/3.10/lib/python3.10/site-packages/IPython/core/pylabtools.py:152: UserWarning: Glyph 3635 (\\N{THAI CHARACTER SARA AM}) missing from current font.\n",
            "  fig.canvas.print_figure(bytes_io, **kw)\n",
            "/Library/Frameworks/Python.framework/Versions/3.10/lib/python3.10/site-packages/IPython/core/pylabtools.py:152: UserWarning: Glyph 3609 (\\N{THAI CHARACTER NO NU}) missing from current font.\n",
            "  fig.canvas.print_figure(bytes_io, **kw)\n",
            "/Library/Frameworks/Python.framework/Versions/3.10/lib/python3.10/site-packages/IPython/core/pylabtools.py:152: UserWarning: Glyph 3623 (\\N{THAI CHARACTER WO WAEN}) missing from current font.\n",
            "  fig.canvas.print_figure(bytes_io, **kw)\n",
            "/Library/Frameworks/Python.framework/Versions/3.10/lib/python3.10/site-packages/IPython/core/pylabtools.py:152: UserWarning: Glyph 3585 (\\N{THAI CHARACTER KO KAI}) missing from current font.\n",
            "  fig.canvas.print_figure(bytes_io, **kw)\n",
            "/Library/Frameworks/Python.framework/Versions/3.10/lib/python3.10/site-packages/IPython/core/pylabtools.py:152: UserWarning: Glyph 3621 (\\N{THAI CHARACTER LO LING}) missing from current font.\n",
            "  fig.canvas.print_figure(bytes_io, **kw)\n",
            "/Library/Frameworks/Python.framework/Versions/3.10/lib/python3.10/site-packages/IPython/core/pylabtools.py:152: UserWarning: Glyph 3640 (\\N{THAI CHARACTER SARA U}) missing from current font.\n",
            "  fig.canvas.print_figure(bytes_io, **kw)\n",
            "/Library/Frameworks/Python.framework/Versions/3.10/lib/python3.10/site-packages/IPython/core/pylabtools.py:152: UserWarning: Glyph 3656 (\\N{THAI CHARACTER MAI EK}) missing from current font.\n",
            "  fig.canvas.print_figure(bytes_io, **kw)\n",
            "/Library/Frameworks/Python.framework/Versions/3.10/lib/python3.10/site-packages/IPython/core/pylabtools.py:152: UserWarning: Glyph 3617 (\\N{THAI CHARACTER MO MA}) missing from current font.\n",
            "  fig.canvas.print_figure(bytes_io, **kw)\n",
            "/Library/Frameworks/Python.framework/Versions/3.10/lib/python3.10/site-packages/IPython/core/pylabtools.py:152: UserWarning: Glyph 3605 (\\N{THAI CHARACTER TO TAO}) missing from current font.\n",
            "  fig.canvas.print_figure(bytes_io, **kw)\n",
            "/Library/Frameworks/Python.framework/Versions/3.10/lib/python3.10/site-packages/IPython/core/pylabtools.py:152: UserWarning: Glyph 3633 (\\N{THAI CHARACTER MAI HAN-AKAT}) missing from current font.\n",
            "  fig.canvas.print_figure(bytes_io, **kw)\n",
            "/Library/Frameworks/Python.framework/Versions/3.10/lib/python3.10/site-packages/IPython/core/pylabtools.py:152: UserWarning: Glyph 3629 (\\N{THAI CHARACTER O ANG}) missing from current font.\n",
            "  fig.canvas.print_figure(bytes_io, **kw)\n",
            "/Library/Frameworks/Python.framework/Versions/3.10/lib/python3.10/site-packages/IPython/core/pylabtools.py:152: UserWarning: Glyph 3618 (\\N{THAI CHARACTER YO YAK}) missing from current font.\n",
            "  fig.canvas.print_figure(bytes_io, **kw)\n",
            "/Library/Frameworks/Python.framework/Versions/3.10/lib/python3.10/site-packages/IPython/core/pylabtools.py:152: UserWarning: Glyph 3634 (\\N{THAI CHARACTER SARA AA}) missing from current font.\n",
            "  fig.canvas.print_figure(bytes_io, **kw)\n",
            "/Library/Frameworks/Python.framework/Versions/3.10/lib/python3.10/site-packages/IPython/core/pylabtools.py:152: UserWarning: Glyph 3591 (\\N{THAI CHARACTER NGO NGU}) missing from current font.\n",
            "  fig.canvas.print_figure(bytes_io, **kw)\n",
            "/Library/Frameworks/Python.framework/Versions/3.10/lib/python3.10/site-packages/IPython/core/pylabtools.py:152: UserWarning: Glyph 3614 (\\N{THAI CHARACTER PHO PHAN}) missing from current font.\n",
            "  fig.canvas.print_figure(bytes_io, **kw)\n",
            "/Library/Frameworks/Python.framework/Versions/3.10/lib/python3.10/site-packages/IPython/core/pylabtools.py:152: UserWarning: Glyph 3651 (\\N{THAI CHARACTER SARA AI MAIMUAN}) missing from current font.\n",
            "  fig.canvas.print_figure(bytes_io, **kw)\n",
            "/Library/Frameworks/Python.framework/Versions/3.10/lib/python3.10/site-packages/IPython/core/pylabtools.py:152: UserWarning: Glyph 3649 (\\N{THAI CHARACTER SARA AE}) missing from current font.\n",
            "  fig.canvas.print_figure(bytes_io, **kw)\n",
            "/Library/Frameworks/Python.framework/Versions/3.10/lib/python3.10/site-packages/IPython/core/pylabtools.py:152: UserWarning: Glyph 3632 (\\N{THAI CHARACTER SARA A}) missing from current font.\n",
            "  fig.canvas.print_figure(bytes_io, **kw)\n",
            "/Library/Frameworks/Python.framework/Versions/3.10/lib/python3.10/site-packages/IPython/core/pylabtools.py:152: UserWarning: Glyph 3627 (\\N{THAI CHARACTER HO HIP}) missing from current font.\n",
            "  fig.canvas.print_figure(bytes_io, **kw)\n",
            "/Library/Frameworks/Python.framework/Versions/3.10/lib/python3.10/site-packages/IPython/core/pylabtools.py:152: UserWarning: Glyph 3657 (\\N{THAI CHARACTER MAI THO}) missing from current font.\n",
            "  fig.canvas.print_figure(bytes_io, **kw)\n",
            "/Library/Frameworks/Python.framework/Versions/3.10/lib/python3.10/site-packages/IPython/core/pylabtools.py:152: UserWarning: Glyph 3607 (\\N{THAI CHARACTER THO THAHAN}) missing from current font.\n",
            "  fig.canvas.print_figure(bytes_io, **kw)\n",
            "/Library/Frameworks/Python.framework/Versions/3.10/lib/python3.10/site-packages/IPython/core/pylabtools.py:152: UserWarning: Glyph 3637 (\\N{THAI CHARACTER SARA II}) missing from current font.\n",
            "  fig.canvas.print_figure(bytes_io, **kw)\n"
          ]
        },
        {
          "data": {
            "image/png": "[encoded data removed]",
            "text/plain": [
              "<Figure size 2000x700 with 1 Axes>"
            ]
          },
          "metadata": {},
          "output_type": "display_data"
        }
      ],
      "source": [
        "plt.figure(figsize=(20,7))\n",
        "plt.title('จำนวนกลุ่มตัวอย่างพนักงานในแต่ละหน้าที่ตำแหน่ง')\n",
        "ax = sns.countplot( data=df , x='JobRole', order=df['JobRole'].value_counts().index )\n",
        "\n",
        "abs_values = df['JobRole'].value_counts().values\n",
        "ax.bar_label(container=ax.containers[0], labels=abs_values)\n",
        "plt.show()"
      ]
    },
    {
      "cell_type": "code",
      "execution_count": 17,
      "metadata": {
        "colab": {
          "base_uri": "https://localhost:8080/",
          "height": 652
        },
        "id": "4rqHRqIP8dtV",
        "outputId": "bbccf259-9ed3-4092-b827-59a1b14270ab"
      },
      "outputs": [
        {
          "name": "stderr",
          "output_type": "stream",
          "text": [
            "/Library/Frameworks/Python.framework/Versions/3.10/lib/python3.10/site-packages/seaborn/_oldcore.py:1498: FutureWarning: is_categorical_dtype is deprecated and will be removed in a future version. Use isinstance(dtype, CategoricalDtype) instead\n",
            "  if pd.api.types.is_categorical_dtype(vector):\n",
            "/Library/Frameworks/Python.framework/Versions/3.10/lib/python3.10/site-packages/seaborn/_oldcore.py:1498: FutureWarning: is_categorical_dtype is deprecated and will be removed in a future version. Use isinstance(dtype, CategoricalDtype) instead\n",
            "  if pd.api.types.is_categorical_dtype(vector):\n",
            "/Library/Frameworks/Python.framework/Versions/3.10/lib/python3.10/site-packages/IPython/core/pylabtools.py:152: UserWarning: Glyph 3592 (\\N{THAI CHARACTER CHO CHAN}) missing from current font.\n",
            "  fig.canvas.print_figure(bytes_io, **kw)\n",
            "/Library/Frameworks/Python.framework/Versions/3.10/lib/python3.10/site-packages/IPython/core/pylabtools.py:152: UserWarning: Glyph 3635 (\\N{THAI CHARACTER SARA AM}) missing from current font.\n",
            "  fig.canvas.print_figure(bytes_io, **kw)\n",
            "/Library/Frameworks/Python.framework/Versions/3.10/lib/python3.10/site-packages/IPython/core/pylabtools.py:152: UserWarning: Glyph 3609 (\\N{THAI CHARACTER NO NU}) missing from current font.\n",
            "  fig.canvas.print_figure(bytes_io, **kw)\n",
            "/Library/Frameworks/Python.framework/Versions/3.10/lib/python3.10/site-packages/IPython/core/pylabtools.py:152: UserWarning: Glyph 3623 (\\N{THAI CHARACTER WO WAEN}) missing from current font.\n",
            "  fig.canvas.print_figure(bytes_io, **kw)\n",
            "/Library/Frameworks/Python.framework/Versions/3.10/lib/python3.10/site-packages/IPython/core/pylabtools.py:152: UserWarning: Glyph 3585 (\\N{THAI CHARACTER KO KAI}) missing from current font.\n",
            "  fig.canvas.print_figure(bytes_io, **kw)\n",
            "/Library/Frameworks/Python.framework/Versions/3.10/lib/python3.10/site-packages/IPython/core/pylabtools.py:152: UserWarning: Glyph 3621 (\\N{THAI CHARACTER LO LING}) missing from current font.\n",
            "  fig.canvas.print_figure(bytes_io, **kw)\n",
            "/Library/Frameworks/Python.framework/Versions/3.10/lib/python3.10/site-packages/IPython/core/pylabtools.py:152: UserWarning: Glyph 3640 (\\N{THAI CHARACTER SARA U}) missing from current font.\n",
            "  fig.canvas.print_figure(bytes_io, **kw)\n",
            "/Library/Frameworks/Python.framework/Versions/3.10/lib/python3.10/site-packages/IPython/core/pylabtools.py:152: UserWarning: Glyph 3656 (\\N{THAI CHARACTER MAI EK}) missing from current font.\n",
            "  fig.canvas.print_figure(bytes_io, **kw)\n",
            "/Library/Frameworks/Python.framework/Versions/3.10/lib/python3.10/site-packages/IPython/core/pylabtools.py:152: UserWarning: Glyph 3617 (\\N{THAI CHARACTER MO MA}) missing from current font.\n",
            "  fig.canvas.print_figure(bytes_io, **kw)\n",
            "/Library/Frameworks/Python.framework/Versions/3.10/lib/python3.10/site-packages/IPython/core/pylabtools.py:152: UserWarning: Glyph 3605 (\\N{THAI CHARACTER TO TAO}) missing from current font.\n",
            "  fig.canvas.print_figure(bytes_io, **kw)\n",
            "/Library/Frameworks/Python.framework/Versions/3.10/lib/python3.10/site-packages/IPython/core/pylabtools.py:152: UserWarning: Glyph 3633 (\\N{THAI CHARACTER MAI HAN-AKAT}) missing from current font.\n",
            "  fig.canvas.print_figure(bytes_io, **kw)\n",
            "/Library/Frameworks/Python.framework/Versions/3.10/lib/python3.10/site-packages/IPython/core/pylabtools.py:152: UserWarning: Glyph 3629 (\\N{THAI CHARACTER O ANG}) missing from current font.\n",
            "  fig.canvas.print_figure(bytes_io, **kw)\n",
            "/Library/Frameworks/Python.framework/Versions/3.10/lib/python3.10/site-packages/IPython/core/pylabtools.py:152: UserWarning: Glyph 3618 (\\N{THAI CHARACTER YO YAK}) missing from current font.\n",
            "  fig.canvas.print_figure(bytes_io, **kw)\n",
            "/Library/Frameworks/Python.framework/Versions/3.10/lib/python3.10/site-packages/IPython/core/pylabtools.py:152: UserWarning: Glyph 3634 (\\N{THAI CHARACTER SARA AA}) missing from current font.\n",
            "  fig.canvas.print_figure(bytes_io, **kw)\n",
            "/Library/Frameworks/Python.framework/Versions/3.10/lib/python3.10/site-packages/IPython/core/pylabtools.py:152: UserWarning: Glyph 3591 (\\N{THAI CHARACTER NGO NGU}) missing from current font.\n",
            "  fig.canvas.print_figure(bytes_io, **kw)\n",
            "/Library/Frameworks/Python.framework/Versions/3.10/lib/python3.10/site-packages/IPython/core/pylabtools.py:152: UserWarning: Glyph 3614 (\\N{THAI CHARACTER PHO PHAN}) missing from current font.\n",
            "  fig.canvas.print_figure(bytes_io, **kw)\n",
            "/Library/Frameworks/Python.framework/Versions/3.10/lib/python3.10/site-packages/IPython/core/pylabtools.py:152: UserWarning: Glyph 3607 (\\N{THAI CHARACTER THO THAHAN}) missing from current font.\n",
            "  fig.canvas.print_figure(bytes_io, **kw)\n",
            "/Library/Frameworks/Python.framework/Versions/3.10/lib/python3.10/site-packages/IPython/core/pylabtools.py:152: UserWarning: Glyph 3637 (\\N{THAI CHARACTER SARA II}) missing from current font.\n",
            "  fig.canvas.print_figure(bytes_io, **kw)\n",
            "/Library/Frameworks/Python.framework/Versions/3.10/lib/python3.10/site-packages/IPython/core/pylabtools.py:152: UserWarning: Glyph 3657 (\\N{THAI CHARACTER MAI THO}) missing from current font.\n",
            "  fig.canvas.print_figure(bytes_io, **kw)\n",
            "/Library/Frameworks/Python.framework/Versions/3.10/lib/python3.10/site-packages/IPython/core/pylabtools.py:152: UserWarning: Glyph 3648 (\\N{THAI CHARACTER SARA E}) missing from current font.\n",
            "  fig.canvas.print_figure(bytes_io, **kw)\n"
          ]
        },
        {
          "data": {
            "image/png": "[encoded data removed]",
            "text/plain": [
              "<Figure size 900x700 with 1 Axes>"
            ]
          },
          "metadata": {},
          "output_type": "display_data"
        }
      ],
      "source": [
        "plt.figure(figsize=(9,7))\n",
        "plt.title('จำนวนกลุ่มตัวอย่างพนักงานที่ต้องทำงานล่วงเวลา')\n",
        "ax = sns.countplot( data=df , x='OverTime', order=df['OverTime'].value_counts().index )\n",
        "\n",
        "abs_values = df['OverTime'].value_counts().values\n",
        "ax.bar_label(container=ax.containers[0], labels=abs_values)\n",
        "plt.show()"
      ]
    },
    {
      "cell_type": "code",
      "execution_count": 18,
      "metadata": {
        "colab": {
          "base_uri": "https://localhost:8080/"
        },
        "id": "Mb926R-MLppc",
        "outputId": "a8841ee0-0ae9-4004-e524-6e3c7710462d"
      },
      "outputs": [
        {
          "data": {
            "text/plain": [
              "Age                          int64\n",
              "Attrition                   object\n",
              "Department                  object\n",
              "EnvironmentSatisfaction      int64\n",
              "JobInvolvement               int64\n",
              "JobLevel                     int64\n",
              "JobRole                     object\n",
              "JobSatisfaction              int64\n",
              "MonthlyRate                  int64\n",
              "OverTime                    object\n",
              "PercentSalaryHike            int64\n",
              "PerformanceRating            int64\n",
              "RelationshipSatisfaction     int64\n",
              "TotalWorkingYears            int64\n",
              "WorkLifeBalance              int64\n",
              "YearsAtCompany               int64\n",
              "YearsInCurrentRole           int64\n",
              "YearsSinceLastPromotion      int64\n",
              "YearsWithCurrManager         int64\n",
              "dtype: object"
            ]
          },
          "execution_count": 18,
          "metadata": {},
          "output_type": "execute_result"
        }
      ],
      "source": [
        "df.dtypes"
      ]
    },
    {
      "cell_type": "code",
      "execution_count": 19,
      "metadata": {
        "colab": {
          "base_uri": "https://localhost:8080/"
        },
        "id": "qjOAOhWyON3a",
        "outputId": "a5ea8317-2759-4e3f-869d-e06a5338bc42"
      },
      "outputs": [
        {
          "data": {
            "text/plain": [
              "OverTime\n",
              "No     312\n",
              "Yes    187\n",
              "Name: count, dtype: int64"
            ]
          },
          "execution_count": 19,
          "metadata": {},
          "output_type": "execute_result"
        }
      ],
      "source": [
        "df['OverTime'].value_counts()"
      ]
    },
    {
      "cell_type": "code",
      "execution_count": 20,
      "metadata": {
        "id": "tG1-XWGgM1ik"
      },
      "outputs": [],
      "source": [
        "#แปลงจากตัวอักษรให้เป็นค่าตัวเลข\n",
        "df['OverTime'].replace('No',0, inplace=True)\n",
        "df['OverTime'].replace('Yes',1, inplace=True)"
      ]
    },
    {
      "cell_type": "code",
      "execution_count": 21,
      "metadata": {
        "id": "NxyFxUT_M6Uu"
      },
      "outputs": [],
      "source": [
        "#แปลงจากตัวอักษรให้เป็นค่าตัวเลข\n",
        "df['OverTime'].value_counts()\n",
        "df['Attrition'].replace('No',0, inplace=True)\n",
        "df['Attrition'].replace('Yes',1, inplace=True)"
      ]
    },
    {
      "cell_type": "markdown",
      "metadata": {
        "id": "nGVPvBkOejY4"
      },
      "source": [
        "##5.การเลือกใช้โมเดล (สามารถอธิบายเหตุผล และแสดงความเข้าใจในการเลือกใช้ model ได้)\n",
        "\n",
        "##6.การวัดผล (แสดงควาเข้าใจการวัดผล เปรียบเทียบผลลัพธ์ของแต่ละ model ได้)"
      ]
    },
    {
      "cell_type": "markdown",
      "metadata": {
        "id": "O3NXHrYYSR02"
      },
      "source": [
        "###Decision Tree\n",
        "> Use Because It is one of the easiest way to Classified the class and we could Easy to Interpret the result and we could look at which Feature is important into Decision Making\n"
      ]
    },
    {
      "cell_type": "code",
      "execution_count": 22,
      "metadata": {
        "id": "vfACPSSIKN47"
      },
      "outputs": [],
      "source": [
        "featurecol = ['Age', 'EnvironmentSatisfaction',\n",
        "       'JobInvolvement', 'JobLevel', 'JobSatisfaction',\n",
        "       'MonthlyRate', 'OverTime', 'PercentSalaryHike',\n",
        "       'RelationshipSatisfaction', 'TotalWorkingYears', 'WorkLifeBalance',\n",
        "       'YearsAtCompany', 'YearsSinceLastPromotion',\n",
        "       'YearsWithCurrManager']\n",
        "X = df[featurecol]\n",
        "#แบ่ง Column ที่เป็น Feature ที่เรานำทำ Machine Learning ไปไว้ใน \"X\"\n",
        "y = df['Attrition']\n",
        "#แบ่ง Column Attrition ที่เป็น Label ไว้ในตัวแปล \"y\"\n",
        "X_train,X_test,y_train,y_test = train_test_split(X,y,test_size =0.15)\n",
        "#แบ่ง Train-Test Split ตาม Ratio 80:20"
      ]
    },
    {
      "cell_type": "markdown",
      "metadata": {
        "id": "1M_7G8j4D8Qv"
      },
      "source": [
        "#### Model 1 DecisionTreeClassifier w/ entropy and max depth = 4\n",
        "\n",
        "\n",
        "\n"
      ]
    },
    {
      "cell_type": "code",
      "execution_count": 23,
      "metadata": {
        "colab": {
          "base_uri": "https://localhost:8080/"
        },
        "id": "5dXwNywgJ2W1",
        "outputId": "a4534867-460b-400c-cb9d-d95143ae34f6"
      },
      "outputs": [
        {
          "name": "stdout",
          "output_type": "stream",
          "text": [
            "Decision Tree Training accuracy w/ Entropy is 76.35%\n"
          ]
        }
      ],
      "source": [
        "clf1 = DecisionTreeClassifier(criterion='entropy',max_depth=4,class_weight='balanced')\n",
        "clf1.fit(X_train,y_train)\n",
        "print('Decision Tree Training accuracy w/ Entropy is {:.2f}%'.format(clf1.score(X, y)*100))"
      ]
    },
    {
      "cell_type": "code",
      "execution_count": 24,
      "metadata": {
        "colab": {
          "base_uri": "https://localhost:8080/",
          "height": 324
        },
        "id": "tFppVNrjOYv4",
        "outputId": "6dd5f8ef-8840-4970-d743-3a2a515ed58b"
      },
      "outputs": [
        {
          "ename": "InvocationException",
          "evalue": "GraphViz's executables not found",
          "output_type": "error",
          "traceback": [
            "\u001b[0;31m---------------------------------------------------------------------------\u001b[0m",
            "\u001b[0;31mInvocationException\u001b[0m                       Traceback (most recent call last)",
            "\u001b[1;32m/Users/chutipongpansantaveekun/Documents/Work/4th Year/1st Semmester/ITE-436 Data Mining/Project/Project_Data_Mining_HR_Employee&Attrition.ipynb Cell 33\u001b[0m line \u001b[0;36m1\n\u001b[1;32m      <a href='vscode-notebook-cell:/Users/chutipongpansantaveekun/Documents/Work/4th%20Year/1st%20Semmester/ITE-436%20Data%20Mining/Project/Project_Data_Mining_HR_Employee%26Attrition.ipynb#X44sZmlsZQ%3D%3D?line=8'>9</a>\u001b[0m                 \u001b[39m#Label is in order of amount\u001b[39;00m\n\u001b[1;32m     <a href='vscode-notebook-cell:/Users/chutipongpansantaveekun/Documents/Work/4th%20Year/1st%20Semmester/ITE-436%20Data%20Mining/Project/Project_Data_Mining_HR_Employee%26Attrition.ipynb#X44sZmlsZQ%3D%3D?line=9'>10</a>\u001b[0m graph \u001b[39m=\u001b[39m pydotplus\u001b[39m.\u001b[39mgraph_from_dot_data(dot_data\u001b[39m.\u001b[39mgetvalue())\n\u001b[0;32m---> <a href='vscode-notebook-cell:/Users/chutipongpansantaveekun/Documents/Work/4th%20Year/1st%20Semmester/ITE-436%20Data%20Mining/Project/Project_Data_Mining_HR_Employee%26Attrition.ipynb#X44sZmlsZQ%3D%3D?line=10'>11</a>\u001b[0m Image(graph\u001b[39m.\u001b[39;49mcreate_png())\n",
            "File \u001b[0;32m/Library/Frameworks/Python.framework/Versions/3.10/lib/python3.10/site-packages/pydotplus/graphviz.py:1797\u001b[0m, in \u001b[0;36mDot.__init__.<locals>.<lambda>\u001b[0;34m(f, prog)\u001b[0m\n\u001b[1;32m   1792\u001b[0m \u001b[39m# Automatically creates all the methods enabling the creation\u001b[39;00m\n\u001b[1;32m   1793\u001b[0m \u001b[39m# of output in any of the supported formats.\u001b[39;00m\n\u001b[1;32m   1794\u001b[0m \u001b[39mfor\u001b[39;00m frmt \u001b[39min\u001b[39;00m \u001b[39mself\u001b[39m\u001b[39m.\u001b[39mformats:\n\u001b[1;32m   1795\u001b[0m     \u001b[39mself\u001b[39m\u001b[39m.\u001b[39m\u001b[39m__setattr__\u001b[39m(\n\u001b[1;32m   1796\u001b[0m         \u001b[39m'\u001b[39m\u001b[39mcreate_\u001b[39m\u001b[39m'\u001b[39m \u001b[39m+\u001b[39m frmt,\n\u001b[0;32m-> 1797\u001b[0m         \u001b[39mlambda\u001b[39;00m f\u001b[39m=\u001b[39mfrmt, prog\u001b[39m=\u001b[39m\u001b[39mself\u001b[39m\u001b[39m.\u001b[39mprog: \u001b[39mself\u001b[39;49m\u001b[39m.\u001b[39;49mcreate(\u001b[39mformat\u001b[39;49m\u001b[39m=\u001b[39;49mf, prog\u001b[39m=\u001b[39;49mprog)\n\u001b[1;32m   1798\u001b[0m     )\n\u001b[1;32m   1799\u001b[0m     f \u001b[39m=\u001b[39m \u001b[39mself\u001b[39m\u001b[39m.\u001b[39m\u001b[39m__dict__\u001b[39m[\u001b[39m'\u001b[39m\u001b[39mcreate_\u001b[39m\u001b[39m'\u001b[39m \u001b[39m+\u001b[39m frmt]\n\u001b[1;32m   1800\u001b[0m     f\u001b[39m.\u001b[39m\u001b[39m__doc__\u001b[39m \u001b[39m=\u001b[39m (\n\u001b[1;32m   1801\u001b[0m \u001b[39m        \u001b[39m\u001b[39m'''Refer to the docstring accompanying the'''\u001b[39;00m\n\u001b[1;32m   1802\u001b[0m \u001b[39m        \u001b[39m\u001b[39m''''create' method for more information.'''\u001b[39;00m\n\u001b[1;32m   1803\u001b[0m     )\n",
            "File \u001b[0;32m/Library/Frameworks/Python.framework/Versions/3.10/lib/python3.10/site-packages/pydotplus/graphviz.py:1959\u001b[0m, in \u001b[0;36mDot.create\u001b[0;34m(self, prog, format)\u001b[0m\n\u001b[1;32m   1957\u001b[0m     \u001b[39mself\u001b[39m\u001b[39m.\u001b[39mprogs \u001b[39m=\u001b[39m find_graphviz()\n\u001b[1;32m   1958\u001b[0m     \u001b[39mif\u001b[39;00m \u001b[39mself\u001b[39m\u001b[39m.\u001b[39mprogs \u001b[39mis\u001b[39;00m \u001b[39mNone\u001b[39;00m:\n\u001b[0;32m-> 1959\u001b[0m         \u001b[39mraise\u001b[39;00m InvocationException(\n\u001b[1;32m   1960\u001b[0m             \u001b[39m'\u001b[39m\u001b[39mGraphViz\u001b[39m\u001b[39m\\'\u001b[39;00m\u001b[39ms executables not found\u001b[39m\u001b[39m'\u001b[39m)\n\u001b[1;32m   1962\u001b[0m \u001b[39mif\u001b[39;00m prog \u001b[39mnot\u001b[39;00m \u001b[39min\u001b[39;00m \u001b[39mself\u001b[39m\u001b[39m.\u001b[39mprogs:\n\u001b[1;32m   1963\u001b[0m     \u001b[39mraise\u001b[39;00m InvocationException(\n\u001b[1;32m   1964\u001b[0m         \u001b[39m'\u001b[39m\u001b[39mGraphViz\u001b[39m\u001b[39m\\'\u001b[39;00m\u001b[39ms executable \u001b[39m\u001b[39m\"\u001b[39m\u001b[39m%s\u001b[39;00m\u001b[39m\"\u001b[39m\u001b[39m not found\u001b[39m\u001b[39m'\u001b[39m \u001b[39m%\u001b[39m prog)\n",
            "\u001b[0;31mInvocationException\u001b[0m: GraphViz's executables not found"
          ]
        }
      ],
      "source": [
        "#Class 0 = Stay(In Orange)\n",
        "#Class 1 = Left(In Blue)\n",
        "dot_data = StringIO()\n",
        "export_graphviz(clf1,\n",
        "                out_file=dot_data,\n",
        "                feature_names = featurecol,\n",
        "                #feature name is column head\n",
        "                class_names=['0','1'],filled=True)\n",
        "                #Label is in order of amount\n",
        "graph = pydotplus.graph_from_dot_data(dot_data.getvalue())\n",
        "Image(graph.create_png())"
      ]
    },
    {
      "cell_type": "code",
      "execution_count": 25,
      "metadata": {
        "colab": {
          "base_uri": "https://localhost:8080/"
        },
        "id": "qcxjNsmhFnUO",
        "outputId": "5e90d79f-0d62-4c11-e936-5966141794d7"
      },
      "outputs": [
        {
          "data": {
            "text/plain": [
              "OverTime                    0.203263\n",
              "JobLevel                    0.160759\n",
              "YearsSinceLastPromotion     0.143877\n",
              "Age                         0.136585\n",
              "YearsWithCurrManager        0.136191\n",
              "JobInvolvement              0.065211\n",
              "JobSatisfaction             0.057916\n",
              "EnvironmentSatisfaction     0.044751\n",
              "MonthlyRate                 0.025758\n",
              "TotalWorkingYears           0.025688\n",
              "PercentSalaryHike           0.000000\n",
              "RelationshipSatisfaction    0.000000\n",
              "WorkLifeBalance             0.000000\n",
              "YearsAtCompany              0.000000\n",
              "dtype: float64"
            ]
          },
          "execution_count": 25,
          "metadata": {},
          "output_type": "execute_result"
        }
      ],
      "source": [
        "feature_imp = pd.Series(clf1.feature_importances_,index = X.columns).sort_values(ascending = False)\n",
        "feature_imp\n",
        "#Important Feature is Overtime , JobLevel and YearsWithCurrManager"
      ]
    },
    {
      "cell_type": "code",
      "execution_count": 26,
      "metadata": {
        "colab": {
          "base_uri": "https://localhost:8080/"
        },
        "id": "pVpLu4iHQ8H6",
        "outputId": "2c61a8e9-0dab-406c-fcd2-6d2400dfe2f5"
      },
      "outputs": [
        {
          "name": "stdout",
          "output_type": "stream",
          "text": [
            "              precision    recall  f1-score   support\n",
            "\n",
            "           0       0.70      0.61      0.65        38\n",
            "           1       0.64      0.73      0.68        37\n",
            "\n",
            "    accuracy                           0.67        75\n",
            "   macro avg       0.67      0.67      0.67        75\n",
            "weighted avg       0.67      0.67      0.67        75\n",
            "\n"
          ]
        }
      ],
      "source": [
        "#Test the model with X_test data\n",
        "y_pred = clf1.predict(X_test)\n",
        "print(classification_report(y_test,y_pred))"
      ]
    },
    {
      "cell_type": "code",
      "execution_count": 27,
      "metadata": {
        "colab": {
          "base_uri": "https://localhost:8080/"
        },
        "id": "P2BWBuHFiIg4",
        "outputId": "6a396879-ed7c-4d8c-959b-dd111b527780"
      },
      "outputs": [
        {
          "name": "stdout",
          "output_type": "stream",
          "text": [
            "[[23 15]\n",
            " [10 27]]\n"
          ]
        }
      ],
      "source": [
        "print(confusion_matrix(y_test,y_pred))"
      ]
    },
    {
      "cell_type": "code",
      "execution_count": 28,
      "metadata": {
        "id": "5NW08bCeFVe0"
      },
      "outputs": [],
      "source": [
        "# This Model has accuracy at 72 % when test with test Data\n",
        "# เนื่องจากตาม Domain ของข้อมูลเรา เรานั้นสนใจค่า Recall ของ  Class 1 เป็นพิเศษ เพื่อทำให้มีโอกาสที่จะเกิด False Negative ให้น้อยที่สุด\n",
        "# Recall Score of Interested Class (Class 1)of 53 %\n",
        "# f1-score of Interested Class (Class 1)of 66 %\n",
        "# weighted avg f1-score of 71 %\n",
        "# In the interest class it has Good Precision but it still has lower than acceptable Recall Rate (Too Many False Negative)"
      ]
    },
    {
      "cell_type": "markdown",
      "metadata": {
        "id": "_DOxO5c2FgNS"
      },
      "source": [
        "#### Model 2 DecisionTreeClassifier w/ gini and max depth = 4\n",
        "\n"
      ]
    },
    {
      "cell_type": "code",
      "execution_count": 29,
      "metadata": {
        "colab": {
          "base_uri": "https://localhost:8080/"
        },
        "id": "Z8cYBiBePrvf",
        "outputId": "0bd9b847-c797-4733-ba37-a1e56b9e5939"
      },
      "outputs": [
        {
          "name": "stdout",
          "output_type": "stream",
          "text": [
            "Decision Tree Training accuracy w/ Gini is 76.35%\n"
          ]
        }
      ],
      "source": [
        "clf2 = DecisionTreeClassifier(criterion='gini',max_depth=4,class_weight='balanced')\n",
        "clf2.fit(X_train,y_train)\n",
        "print('Decision Tree Training accuracy w/ Gini is {:.2f}%'.format(clf2.score(X, y)*100))"
      ]
    },
    {
      "cell_type": "code",
      "execution_count": 30,
      "metadata": {
        "colab": {
          "base_uri": "https://localhost:8080/",
          "height": 327
        },
        "id": "zOCVaW8YPseX",
        "outputId": "9ee637b0-8177-4488-8d76-3979707e6a8c"
      },
      "outputs": [
        {
          "ename": "InvocationException",
          "evalue": "GraphViz's executables not found",
          "output_type": "error",
          "traceback": [
            "\u001b[0;31m---------------------------------------------------------------------------\u001b[0m",
            "\u001b[0;31mInvocationException\u001b[0m                       Traceback (most recent call last)",
            "\u001b[1;32m/Users/chutipongpansantaveekun/Documents/Work/4th Year/1st Semmester/ITE-436 Data Mining/Project/Project_Data_Mining_HR_Employee&Attrition.ipynb Cell 40\u001b[0m line \u001b[0;36m1\n\u001b[1;32m      <a href='vscode-notebook-cell:/Users/chutipongpansantaveekun/Documents/Work/4th%20Year/1st%20Semmester/ITE-436%20Data%20Mining/Project/Project_Data_Mining_HR_Employee%26Attrition.ipynb#X54sZmlsZQ%3D%3D?line=8'>9</a>\u001b[0m                 \u001b[39m#Label is in order of amount\u001b[39;00m\n\u001b[1;32m     <a href='vscode-notebook-cell:/Users/chutipongpansantaveekun/Documents/Work/4th%20Year/1st%20Semmester/ITE-436%20Data%20Mining/Project/Project_Data_Mining_HR_Employee%26Attrition.ipynb#X54sZmlsZQ%3D%3D?line=9'>10</a>\u001b[0m graph \u001b[39m=\u001b[39m pydotplus\u001b[39m.\u001b[39mgraph_from_dot_data(dot_data\u001b[39m.\u001b[39mgetvalue())\n\u001b[0;32m---> <a href='vscode-notebook-cell:/Users/chutipongpansantaveekun/Documents/Work/4th%20Year/1st%20Semmester/ITE-436%20Data%20Mining/Project/Project_Data_Mining_HR_Employee%26Attrition.ipynb#X54sZmlsZQ%3D%3D?line=10'>11</a>\u001b[0m Image(graph\u001b[39m.\u001b[39;49mcreate_png())\n",
            "File \u001b[0;32m/Library/Frameworks/Python.framework/Versions/3.10/lib/python3.10/site-packages/pydotplus/graphviz.py:1797\u001b[0m, in \u001b[0;36mDot.__init__.<locals>.<lambda>\u001b[0;34m(f, prog)\u001b[0m\n\u001b[1;32m   1792\u001b[0m \u001b[39m# Automatically creates all the methods enabling the creation\u001b[39;00m\n\u001b[1;32m   1793\u001b[0m \u001b[39m# of output in any of the supported formats.\u001b[39;00m\n\u001b[1;32m   1794\u001b[0m \u001b[39mfor\u001b[39;00m frmt \u001b[39min\u001b[39;00m \u001b[39mself\u001b[39m\u001b[39m.\u001b[39mformats:\n\u001b[1;32m   1795\u001b[0m     \u001b[39mself\u001b[39m\u001b[39m.\u001b[39m\u001b[39m__setattr__\u001b[39m(\n\u001b[1;32m   1796\u001b[0m         \u001b[39m'\u001b[39m\u001b[39mcreate_\u001b[39m\u001b[39m'\u001b[39m \u001b[39m+\u001b[39m frmt,\n\u001b[0;32m-> 1797\u001b[0m         \u001b[39mlambda\u001b[39;00m f\u001b[39m=\u001b[39mfrmt, prog\u001b[39m=\u001b[39m\u001b[39mself\u001b[39m\u001b[39m.\u001b[39mprog: \u001b[39mself\u001b[39;49m\u001b[39m.\u001b[39;49mcreate(\u001b[39mformat\u001b[39;49m\u001b[39m=\u001b[39;49mf, prog\u001b[39m=\u001b[39;49mprog)\n\u001b[1;32m   1798\u001b[0m     )\n\u001b[1;32m   1799\u001b[0m     f \u001b[39m=\u001b[39m \u001b[39mself\u001b[39m\u001b[39m.\u001b[39m\u001b[39m__dict__\u001b[39m[\u001b[39m'\u001b[39m\u001b[39mcreate_\u001b[39m\u001b[39m'\u001b[39m \u001b[39m+\u001b[39m frmt]\n\u001b[1;32m   1800\u001b[0m     f\u001b[39m.\u001b[39m\u001b[39m__doc__\u001b[39m \u001b[39m=\u001b[39m (\n\u001b[1;32m   1801\u001b[0m \u001b[39m        \u001b[39m\u001b[39m'''Refer to the docstring accompanying the'''\u001b[39;00m\n\u001b[1;32m   1802\u001b[0m \u001b[39m        \u001b[39m\u001b[39m''''create' method for more information.'''\u001b[39;00m\n\u001b[1;32m   1803\u001b[0m     )\n",
            "File \u001b[0;32m/Library/Frameworks/Python.framework/Versions/3.10/lib/python3.10/site-packages/pydotplus/graphviz.py:1959\u001b[0m, in \u001b[0;36mDot.create\u001b[0;34m(self, prog, format)\u001b[0m\n\u001b[1;32m   1957\u001b[0m     \u001b[39mself\u001b[39m\u001b[39m.\u001b[39mprogs \u001b[39m=\u001b[39m find_graphviz()\n\u001b[1;32m   1958\u001b[0m     \u001b[39mif\u001b[39;00m \u001b[39mself\u001b[39m\u001b[39m.\u001b[39mprogs \u001b[39mis\u001b[39;00m \u001b[39mNone\u001b[39;00m:\n\u001b[0;32m-> 1959\u001b[0m         \u001b[39mraise\u001b[39;00m InvocationException(\n\u001b[1;32m   1960\u001b[0m             \u001b[39m'\u001b[39m\u001b[39mGraphViz\u001b[39m\u001b[39m\\'\u001b[39;00m\u001b[39ms executables not found\u001b[39m\u001b[39m'\u001b[39m)\n\u001b[1;32m   1962\u001b[0m \u001b[39mif\u001b[39;00m prog \u001b[39mnot\u001b[39;00m \u001b[39min\u001b[39;00m \u001b[39mself\u001b[39m\u001b[39m.\u001b[39mprogs:\n\u001b[1;32m   1963\u001b[0m     \u001b[39mraise\u001b[39;00m InvocationException(\n\u001b[1;32m   1964\u001b[0m         \u001b[39m'\u001b[39m\u001b[39mGraphViz\u001b[39m\u001b[39m\\'\u001b[39;00m\u001b[39ms executable \u001b[39m\u001b[39m\"\u001b[39m\u001b[39m%s\u001b[39;00m\u001b[39m\"\u001b[39m\u001b[39m not found\u001b[39m\u001b[39m'\u001b[39m \u001b[39m%\u001b[39m prog)\n",
            "\u001b[0;31mInvocationException\u001b[0m: GraphViz's executables not found"
          ]
        }
      ],
      "source": [
        "#Class 0 = Stay(In Orange)\n",
        "#Class 1 = Left(In Blue)\n",
        "dot_data = StringIO()\n",
        "export_graphviz(clf2,\n",
        "                out_file=dot_data,\n",
        "                feature_names = featurecol,\n",
        "                #feature name is column head\n",
        "                class_names=['0','1'],filled=True)\n",
        "                #Label is in order of amount\n",
        "graph = pydotplus.graph_from_dot_data(dot_data.getvalue())\n",
        "Image(graph.create_png())"
      ]
    },
    {
      "cell_type": "code",
      "execution_count": 31,
      "metadata": {
        "colab": {
          "base_uri": "https://localhost:8080/"
        },
        "id": "hAhJy6OtGAxZ",
        "outputId": "82c327c6-515c-439e-d7f4-946c8b581157"
      },
      "outputs": [
        {
          "data": {
            "text/plain": [
              "OverTime                    0.237864\n",
              "YearsWithCurrManager        0.156775\n",
              "JobLevel                    0.152998\n",
              "Age                         0.137120\n",
              "YearsSinceLastPromotion     0.084233\n",
              "JobInvolvement              0.074849\n",
              "JobSatisfaction             0.066910\n",
              "EnvironmentSatisfaction     0.043048\n",
              "TotalWorkingYears           0.023983\n",
              "MonthlyRate                 0.022219\n",
              "PercentSalaryHike           0.000000\n",
              "RelationshipSatisfaction    0.000000\n",
              "WorkLifeBalance             0.000000\n",
              "YearsAtCompany              0.000000\n",
              "dtype: float64"
            ]
          },
          "execution_count": 31,
          "metadata": {},
          "output_type": "execute_result"
        }
      ],
      "source": [
        "feature_imp = pd.Series(clf2.feature_importances_,index = X.columns).sort_values(ascending = False)\n",
        "feature_imp\n",
        "#Important Feature is TotalWorkingYears ,Overtime and JobLevel"
      ]
    },
    {
      "cell_type": "code",
      "execution_count": 32,
      "metadata": {
        "colab": {
          "base_uri": "https://localhost:8080/"
        },
        "id": "9VtlX2JjRflQ",
        "outputId": "418edb8b-2cb3-4e62-f6f3-89652099c6b2"
      },
      "outputs": [
        {
          "name": "stdout",
          "output_type": "stream",
          "text": [
            "              precision    recall  f1-score   support\n",
            "\n",
            "           0       0.70      0.61      0.65        38\n",
            "           1       0.64      0.73      0.68        37\n",
            "\n",
            "    accuracy                           0.67        75\n",
            "   macro avg       0.67      0.67      0.67        75\n",
            "weighted avg       0.67      0.67      0.67        75\n",
            "\n"
          ]
        }
      ],
      "source": [
        "#Test the model with X_test data\n",
        "y_pred = clf2.predict(X_test)\n",
        "print(classification_report(y_test,y_pred))"
      ]
    },
    {
      "cell_type": "code",
      "execution_count": 33,
      "metadata": {
        "colab": {
          "base_uri": "https://localhost:8080/"
        },
        "id": "urPQGi-biLpA",
        "outputId": "bd8fd918-2178-4815-c457-2c145a349313"
      },
      "outputs": [
        {
          "name": "stdout",
          "output_type": "stream",
          "text": [
            "[[23 15]\n",
            " [10 27]]\n"
          ]
        }
      ],
      "source": [
        "print(confusion_matrix(y_test,y_pred))"
      ]
    },
    {
      "cell_type": "code",
      "execution_count": 34,
      "metadata": {
        "id": "V98P-LdOGxU5"
      },
      "outputs": [],
      "source": [
        "# This Model has accuracy at 72 % when test with test Data\n",
        "# เนื่องจากตาม Domain ของข้อมูลเรา เรานั้นสนใจค่า Recall ของ  Class 1 เป็นพิเศษ เพื่อทำให้มีโอกาสที่จะเกิด False Negative ให้น้อยที่สุด\n",
        "# Recall Score of Interested Class (Class 1)of 53 %\n",
        "# f1-score of Interested Class (Class 1)of 66 %\n",
        "# weighted avg f1-score of 71 %\n",
        "# In the interest class it has Good Precision but it still has lower than acceptable Recall Rate (Too Many False Negative)"
      ]
    },
    {
      "cell_type": "markdown",
      "metadata": {
        "id": "VxRhoOe820ky"
      },
      "source": [
        "###K-Nearest Neighbour\n",
        "\n",
        "> We use this model to calculate the nearest neighbour to look if data that has the same Label with be close together\n",
        "\n"
      ]
    },
    {
      "cell_type": "code",
      "execution_count": 35,
      "metadata": {
        "colab": {
          "base_uri": "https://localhost:8080/"
        },
        "id": "nrfimNcQl3YN",
        "outputId": "9270b9ce-86d3-4c5e-d53a-f669a353ac6a"
      },
      "outputs": [
        {
          "name": "stdout",
          "output_type": "stream",
          "text": [
            "Random Forest accuracy is 68.54%\n"
          ]
        }
      ],
      "source": [
        "from sklearn.neighbors import KNeighborsClassifier\n",
        "clf6 = KNeighborsClassifier(n_neighbors=2 , weights='uniform', algorithm='auto',  p=1, metric='minkowski', metric_params=None, n_jobs=-1,)\n",
        "clf6.fit(X_train, y_train)\n",
        "print('Random Forest accuracy is {:.2f}%'.format(clf6.score(X, y)*100))"
      ]
    },
    {
      "cell_type": "code",
      "execution_count": 36,
      "metadata": {
        "colab": {
          "base_uri": "https://localhost:8080/"
        },
        "id": "rAF4V8S-muHl",
        "outputId": "f66d7c28-ed99-4979-a595-bf183a1c69f3"
      },
      "outputs": [
        {
          "name": "stdout",
          "output_type": "stream",
          "text": [
            "              precision    recall  f1-score   support\n",
            "\n",
            "           0       0.46      0.71      0.56        38\n",
            "           1       0.31      0.14      0.19        37\n",
            "\n",
            "    accuracy                           0.43        75\n",
            "   macro avg       0.39      0.42      0.37        75\n",
            "weighted avg       0.39      0.43      0.38        75\n",
            "\n"
          ]
        }
      ],
      "source": [
        "y_pred = clf6.predict(X_test)\n",
        "print(classification_report(y_test,y_pred))"
      ]
    },
    {
      "cell_type": "code",
      "execution_count": 37,
      "metadata": {
        "colab": {
          "base_uri": "https://localhost:8080/"
        },
        "id": "dfsEv5bBA_O6",
        "outputId": "0075d433-33c1-437c-8606-0b87ee56429e"
      },
      "outputs": [
        {
          "name": "stdout",
          "output_type": "stream",
          "text": [
            "[[27 11]\n",
            " [32  5]]\n"
          ]
        }
      ],
      "source": [
        "print(confusion_matrix(y_test,y_pred))"
      ]
    },
    {
      "cell_type": "code",
      "execution_count": 38,
      "metadata": {
        "id": "f7k_zEpv_jz2"
      },
      "outputs": [],
      "source": [
        "# This Model has accuracy at 48 % when test with test Data\n",
        "# เนื่องจากตาม Domain ของข้อมูลเรา เรานั้นสนใจค่า Recall ของ  Class 1 เป็นพิเศษ เพื่อทำให้มีโอกาสที่จะเกิด False Negative ให้น้อยที่สุด\n",
        "# Recall Score of Interested Class (Class 1)of 18 %\n",
        "# f1-score of Interested Class (Class 1)of 26 %\n",
        "# weighted avg f1-score of 43 %\n",
        "# This Model is not good enough"
      ]
    },
    {
      "cell_type": "markdown",
      "metadata": {
        "id": "JNrnZkHhhoXN"
      },
      "source": [
        "### Random Forest\n",
        "\n",
        "> We use it because you can look at the internal process like Decision Tree But we can look at the bigger picture better\n",
        "\n"
      ]
    },
    {
      "cell_type": "markdown",
      "metadata": {
        "id": "Qjk3KC1eYTKL"
      },
      "source": [
        "#### Model 7 DecisionTreeClassifier w/ gini and max depth = 4 with 1000 Tree\n"
      ]
    },
    {
      "cell_type": "code",
      "execution_count": 39,
      "metadata": {
        "colab": {
          "base_uri": "https://localhost:8080/"
        },
        "id": "pr32EJ1Xhqx6",
        "outputId": "d031428c-7381-418e-d263-b4f9327a4fda"
      },
      "outputs": [
        {
          "name": "stdout",
          "output_type": "stream",
          "text": [
            "Random Forest accuracy is 79.76%\n"
          ]
        }
      ],
      "source": [
        "clf7 = RandomForestClassifier(n_estimators = 1000,max_depth = 4,criterion=\"gini\",class_weight='balanced')\n",
        "clf7.fit(X_train, y_train)\n",
        "estimator = clf7.estimators_[5]\n",
        "print('Random Forest accuracy is {:.2f}%'.format(clf7.score(X, y)*100))"
      ]
    },
    {
      "cell_type": "code",
      "execution_count": 40,
      "metadata": {
        "colab": {
          "base_uri": "https://localhost:8080/",
          "height": 434
        },
        "id": "V3LWHw910quZ",
        "outputId": "f1c6be2a-a15a-4ed6-e064-72406a297cc2"
      },
      "outputs": [
        {
          "ename": "InvocationException",
          "evalue": "GraphViz's executables not found",
          "output_type": "error",
          "traceback": [
            "\u001b[0;31m---------------------------------------------------------------------------\u001b[0m",
            "\u001b[0;31mInvocationException\u001b[0m                       Traceback (most recent call last)",
            "\u001b[1;32m/Users/chutipongpansantaveekun/Documents/Work/4th Year/1st Semmester/ITE-436 Data Mining/Project/Project_Data_Mining_HR_Employee&Attrition.ipynb Cell 53\u001b[0m line \u001b[0;36m1\n\u001b[1;32m      <a href='vscode-notebook-cell:/Users/chutipongpansantaveekun/Documents/Work/4th%20Year/1st%20Semmester/ITE-436%20Data%20Mining/Project/Project_Data_Mining_HR_Employee%26Attrition.ipynb#Y103sZmlsZQ%3D%3D?line=8'>9</a>\u001b[0m                 \u001b[39m#Label is in order of amount\u001b[39;00m\n\u001b[1;32m     <a href='vscode-notebook-cell:/Users/chutipongpansantaveekun/Documents/Work/4th%20Year/1st%20Semmester/ITE-436%20Data%20Mining/Project/Project_Data_Mining_HR_Employee%26Attrition.ipynb#Y103sZmlsZQ%3D%3D?line=9'>10</a>\u001b[0m graph \u001b[39m=\u001b[39m pydotplus\u001b[39m.\u001b[39mgraph_from_dot_data(dot_data\u001b[39m.\u001b[39mgetvalue())\n\u001b[0;32m---> <a href='vscode-notebook-cell:/Users/chutipongpansantaveekun/Documents/Work/4th%20Year/1st%20Semmester/ITE-436%20Data%20Mining/Project/Project_Data_Mining_HR_Employee%26Attrition.ipynb#Y103sZmlsZQ%3D%3D?line=10'>11</a>\u001b[0m Image(graph\u001b[39m.\u001b[39;49mcreate_png())\n",
            "File \u001b[0;32m/Library/Frameworks/Python.framework/Versions/3.10/lib/python3.10/site-packages/pydotplus/graphviz.py:1797\u001b[0m, in \u001b[0;36mDot.__init__.<locals>.<lambda>\u001b[0;34m(f, prog)\u001b[0m\n\u001b[1;32m   1792\u001b[0m \u001b[39m# Automatically creates all the methods enabling the creation\u001b[39;00m\n\u001b[1;32m   1793\u001b[0m \u001b[39m# of output in any of the supported formats.\u001b[39;00m\n\u001b[1;32m   1794\u001b[0m \u001b[39mfor\u001b[39;00m frmt \u001b[39min\u001b[39;00m \u001b[39mself\u001b[39m\u001b[39m.\u001b[39mformats:\n\u001b[1;32m   1795\u001b[0m     \u001b[39mself\u001b[39m\u001b[39m.\u001b[39m\u001b[39m__setattr__\u001b[39m(\n\u001b[1;32m   1796\u001b[0m         \u001b[39m'\u001b[39m\u001b[39mcreate_\u001b[39m\u001b[39m'\u001b[39m \u001b[39m+\u001b[39m frmt,\n\u001b[0;32m-> 1797\u001b[0m         \u001b[39mlambda\u001b[39;00m f\u001b[39m=\u001b[39mfrmt, prog\u001b[39m=\u001b[39m\u001b[39mself\u001b[39m\u001b[39m.\u001b[39mprog: \u001b[39mself\u001b[39;49m\u001b[39m.\u001b[39;49mcreate(\u001b[39mformat\u001b[39;49m\u001b[39m=\u001b[39;49mf, prog\u001b[39m=\u001b[39;49mprog)\n\u001b[1;32m   1798\u001b[0m     )\n\u001b[1;32m   1799\u001b[0m     f \u001b[39m=\u001b[39m \u001b[39mself\u001b[39m\u001b[39m.\u001b[39m\u001b[39m__dict__\u001b[39m[\u001b[39m'\u001b[39m\u001b[39mcreate_\u001b[39m\u001b[39m'\u001b[39m \u001b[39m+\u001b[39m frmt]\n\u001b[1;32m   1800\u001b[0m     f\u001b[39m.\u001b[39m\u001b[39m__doc__\u001b[39m \u001b[39m=\u001b[39m (\n\u001b[1;32m   1801\u001b[0m \u001b[39m        \u001b[39m\u001b[39m'''Refer to the docstring accompanying the'''\u001b[39;00m\n\u001b[1;32m   1802\u001b[0m \u001b[39m        \u001b[39m\u001b[39m''''create' method for more information.'''\u001b[39;00m\n\u001b[1;32m   1803\u001b[0m     )\n",
            "File \u001b[0;32m/Library/Frameworks/Python.framework/Versions/3.10/lib/python3.10/site-packages/pydotplus/graphviz.py:1959\u001b[0m, in \u001b[0;36mDot.create\u001b[0;34m(self, prog, format)\u001b[0m\n\u001b[1;32m   1957\u001b[0m     \u001b[39mself\u001b[39m\u001b[39m.\u001b[39mprogs \u001b[39m=\u001b[39m find_graphviz()\n\u001b[1;32m   1958\u001b[0m     \u001b[39mif\u001b[39;00m \u001b[39mself\u001b[39m\u001b[39m.\u001b[39mprogs \u001b[39mis\u001b[39;00m \u001b[39mNone\u001b[39;00m:\n\u001b[0;32m-> 1959\u001b[0m         \u001b[39mraise\u001b[39;00m InvocationException(\n\u001b[1;32m   1960\u001b[0m             \u001b[39m'\u001b[39m\u001b[39mGraphViz\u001b[39m\u001b[39m\\'\u001b[39;00m\u001b[39ms executables not found\u001b[39m\u001b[39m'\u001b[39m)\n\u001b[1;32m   1962\u001b[0m \u001b[39mif\u001b[39;00m prog \u001b[39mnot\u001b[39;00m \u001b[39min\u001b[39;00m \u001b[39mself\u001b[39m\u001b[39m.\u001b[39mprogs:\n\u001b[1;32m   1963\u001b[0m     \u001b[39mraise\u001b[39;00m InvocationException(\n\u001b[1;32m   1964\u001b[0m         \u001b[39m'\u001b[39m\u001b[39mGraphViz\u001b[39m\u001b[39m\\'\u001b[39;00m\u001b[39ms executable \u001b[39m\u001b[39m\"\u001b[39m\u001b[39m%s\u001b[39;00m\u001b[39m\"\u001b[39m\u001b[39m not found\u001b[39m\u001b[39m'\u001b[39m \u001b[39m%\u001b[39m prog)\n",
            "\u001b[0;31mInvocationException\u001b[0m: GraphViz's executables not found"
          ]
        }
      ],
      "source": [
        "#Class 0 = Stay(In Orange)\n",
        "#Class 1 = Left(In Blue)\n",
        "dot_data = StringIO()\n",
        "export_graphviz(estimator,\n",
        "                out_file=dot_data,\n",
        "                feature_names = featurecol,\n",
        "                #feature name is column head\n",
        "                class_names=['0','1'],filled=True)\n",
        "                #Label is in order of amount\n",
        "graph = pydotplus.graph_from_dot_data(dot_data.getvalue())\n",
        "Image(graph.create_png())"
      ]
    },
    {
      "cell_type": "code",
      "execution_count": null,
      "metadata": {
        "colab": {
          "base_uri": "https://localhost:8080/"
        },
        "id": "2oJaJKW7xkZk",
        "outputId": "4529d45f-2f5f-4b44-bc66-721d0ee755cf"
      },
      "outputs": [
        {
          "data": {
            "text/plain": [
              "OverTime                    0.194397\n",
              "TotalWorkingYears           0.126338\n",
              "YearsAtCompany              0.113044\n",
              "Age                         0.109635\n",
              "YearsWithCurrManager        0.109043\n",
              "JobLevel                    0.059209\n",
              "PercentSalaryHike           0.052573\n",
              "MonthlyRate                 0.051929\n",
              "EnvironmentSatisfaction     0.050381\n",
              "RelationshipSatisfaction    0.033284\n",
              "YearsSinceLastPromotion     0.032590\n",
              "JobSatisfaction             0.028758\n",
              "WorkLifeBalance             0.020011\n",
              "JobInvolvement              0.018808\n",
              "dtype: float64"
            ]
          },
          "execution_count": 43,
          "metadata": {},
          "output_type": "execute_result"
        }
      ],
      "source": [
        "feature_imp = pd.Series(clf7.feature_importances_,index = X_train.columns).sort_values(ascending = False)\n",
        "feature_imp\n",
        "#Important Feature is TotalWorkingYears ,Overtime , YearsWithCurrManager and Age"
      ]
    },
    {
      "cell_type": "code",
      "execution_count": 41,
      "metadata": {
        "colab": {
          "base_uri": "https://localhost:8080/"
        },
        "id": "J4pxs2ZlxaAz",
        "outputId": "2f3aab10-5155-437b-ac7d-6a11ae284951"
      },
      "outputs": [
        {
          "name": "stdout",
          "output_type": "stream",
          "text": [
            "              precision    recall  f1-score   support\n",
            "\n",
            "           0       0.69      0.82      0.75        38\n",
            "           1       0.77      0.62      0.69        37\n",
            "\n",
            "    accuracy                           0.72        75\n",
            "   macro avg       0.73      0.72      0.72        75\n",
            "weighted avg       0.73      0.72      0.72        75\n",
            "\n"
          ]
        }
      ],
      "source": [
        "#Test the model with X_test data\n",
        "y_pred = clf7.predict(X_test)\n",
        "print(classification_report(y_test,y_pred))"
      ]
    },
    {
      "cell_type": "code",
      "execution_count": 42,
      "metadata": {
        "colab": {
          "base_uri": "https://localhost:8080/"
        },
        "id": "rwJbIcUQDJaT",
        "outputId": "c95d6fd0-fbd5-4f06-ef71-276d96662f9f"
      },
      "outputs": [
        {
          "name": "stdout",
          "output_type": "stream",
          "text": [
            "[[31  7]\n",
            " [14 23]]\n"
          ]
        }
      ],
      "source": [
        "print(confusion_matrix(y_test,y_pred))"
      ]
    },
    {
      "cell_type": "code",
      "execution_count": 43,
      "metadata": {
        "id": "HIZ6ub90xdNe"
      },
      "outputs": [],
      "source": [
        "# This Model has accuracy at 77 % when test with test Data\n",
        "# เนื่องจากตาม Domain ของข้อมูลเรา เรานั้นสนใจค่า Recall ของ  Class 1 เป็นพิเศษ เพื่อทำให้มีโอกาสที่จะเกิด False Negative ให้น้อยที่สุด\n",
        "# Recall Score of Interested Class (Class 1)of 61 %\n",
        "# f1-score of Interested Class (Class 1)of 72 %\n",
        "# weighted avg f1-score of 75 %\n",
        "# This One has acceptable level of Recall for the interested class"
      ]
    },
    {
      "cell_type": "markdown",
      "metadata": {
        "id": "93tSj_r1YN2l"
      },
      "source": [
        "#### Model 8 DecisionTreeClassifier w/ entropy and max depth = 4 with 1000 Tree\n",
        "\n",
        "\n",
        "\n"
      ]
    },
    {
      "cell_type": "code",
      "execution_count": 44,
      "metadata": {
        "colab": {
          "base_uri": "https://localhost:8080/"
        },
        "id": "j0QEhaExzgS2",
        "outputId": "8a92d4c3-dc7e-4c10-fc8f-f7ef9307006e"
      },
      "outputs": [
        {
          "name": "stdout",
          "output_type": "stream",
          "text": [
            "Random Forest accuracy is 79.16%\n"
          ]
        }
      ],
      "source": [
        "clf8 = RandomForestClassifier(n_estimators = 1000,max_depth = 4,criterion=\"entropy\",class_weight='balanced')\n",
        "clf8.fit(X_train, y_train)\n",
        "estimator2 = clf8.estimators_[5]\n",
        "\n",
        "print('Random Forest accuracy is {:.2f}%'.format(clf8.score(X, y)*100))"
      ]
    },
    {
      "cell_type": "code",
      "execution_count": 45,
      "metadata": {
        "colab": {
          "base_uri": "https://localhost:8080/",
          "height": 426
        },
        "id": "3s6LgKt8118q",
        "outputId": "0fd95b1d-bbbf-44e5-8ac9-159406917cf5"
      },
      "outputs": [
        {
          "ename": "InvocationException",
          "evalue": "GraphViz's executables not found",
          "output_type": "error",
          "traceback": [
            "\u001b[0;31m---------------------------------------------------------------------------\u001b[0m",
            "\u001b[0;31mInvocationException\u001b[0m                       Traceback (most recent call last)",
            "\u001b[1;32m/Users/chutipongpansantaveekun/Documents/Work/4th Year/1st Semmester/ITE-436 Data Mining/Project/Project_Data_Mining_HR_Employee&Attrition.ipynb Cell 60\u001b[0m line \u001b[0;36m1\n\u001b[1;32m      <a href='vscode-notebook-cell:/Users/chutipongpansantaveekun/Documents/Work/4th%20Year/1st%20Semmester/ITE-436%20Data%20Mining/Project/Project_Data_Mining_HR_Employee%26Attrition.ipynb#Y113sZmlsZQ%3D%3D?line=8'>9</a>\u001b[0m                 \u001b[39m#Label is in order of amount\u001b[39;00m\n\u001b[1;32m     <a href='vscode-notebook-cell:/Users/chutipongpansantaveekun/Documents/Work/4th%20Year/1st%20Semmester/ITE-436%20Data%20Mining/Project/Project_Data_Mining_HR_Employee%26Attrition.ipynb#Y113sZmlsZQ%3D%3D?line=9'>10</a>\u001b[0m graph \u001b[39m=\u001b[39m pydotplus\u001b[39m.\u001b[39mgraph_from_dot_data(dot_data\u001b[39m.\u001b[39mgetvalue())\n\u001b[0;32m---> <a href='vscode-notebook-cell:/Users/chutipongpansantaveekun/Documents/Work/4th%20Year/1st%20Semmester/ITE-436%20Data%20Mining/Project/Project_Data_Mining_HR_Employee%26Attrition.ipynb#Y113sZmlsZQ%3D%3D?line=10'>11</a>\u001b[0m Image(graph\u001b[39m.\u001b[39;49mcreate_png())\n",
            "File \u001b[0;32m/Library/Frameworks/Python.framework/Versions/3.10/lib/python3.10/site-packages/pydotplus/graphviz.py:1797\u001b[0m, in \u001b[0;36mDot.__init__.<locals>.<lambda>\u001b[0;34m(f, prog)\u001b[0m\n\u001b[1;32m   1792\u001b[0m \u001b[39m# Automatically creates all the methods enabling the creation\u001b[39;00m\n\u001b[1;32m   1793\u001b[0m \u001b[39m# of output in any of the supported formats.\u001b[39;00m\n\u001b[1;32m   1794\u001b[0m \u001b[39mfor\u001b[39;00m frmt \u001b[39min\u001b[39;00m \u001b[39mself\u001b[39m\u001b[39m.\u001b[39mformats:\n\u001b[1;32m   1795\u001b[0m     \u001b[39mself\u001b[39m\u001b[39m.\u001b[39m\u001b[39m__setattr__\u001b[39m(\n\u001b[1;32m   1796\u001b[0m         \u001b[39m'\u001b[39m\u001b[39mcreate_\u001b[39m\u001b[39m'\u001b[39m \u001b[39m+\u001b[39m frmt,\n\u001b[0;32m-> 1797\u001b[0m         \u001b[39mlambda\u001b[39;00m f\u001b[39m=\u001b[39mfrmt, prog\u001b[39m=\u001b[39m\u001b[39mself\u001b[39m\u001b[39m.\u001b[39mprog: \u001b[39mself\u001b[39;49m\u001b[39m.\u001b[39;49mcreate(\u001b[39mformat\u001b[39;49m\u001b[39m=\u001b[39;49mf, prog\u001b[39m=\u001b[39;49mprog)\n\u001b[1;32m   1798\u001b[0m     )\n\u001b[1;32m   1799\u001b[0m     f \u001b[39m=\u001b[39m \u001b[39mself\u001b[39m\u001b[39m.\u001b[39m\u001b[39m__dict__\u001b[39m[\u001b[39m'\u001b[39m\u001b[39mcreate_\u001b[39m\u001b[39m'\u001b[39m \u001b[39m+\u001b[39m frmt]\n\u001b[1;32m   1800\u001b[0m     f\u001b[39m.\u001b[39m\u001b[39m__doc__\u001b[39m \u001b[39m=\u001b[39m (\n\u001b[1;32m   1801\u001b[0m \u001b[39m        \u001b[39m\u001b[39m'''Refer to the docstring accompanying the'''\u001b[39;00m\n\u001b[1;32m   1802\u001b[0m \u001b[39m        \u001b[39m\u001b[39m''''create' method for more information.'''\u001b[39;00m\n\u001b[1;32m   1803\u001b[0m     )\n",
            "File \u001b[0;32m/Library/Frameworks/Python.framework/Versions/3.10/lib/python3.10/site-packages/pydotplus/graphviz.py:1959\u001b[0m, in \u001b[0;36mDot.create\u001b[0;34m(self, prog, format)\u001b[0m\n\u001b[1;32m   1957\u001b[0m     \u001b[39mself\u001b[39m\u001b[39m.\u001b[39mprogs \u001b[39m=\u001b[39m find_graphviz()\n\u001b[1;32m   1958\u001b[0m     \u001b[39mif\u001b[39;00m \u001b[39mself\u001b[39m\u001b[39m.\u001b[39mprogs \u001b[39mis\u001b[39;00m \u001b[39mNone\u001b[39;00m:\n\u001b[0;32m-> 1959\u001b[0m         \u001b[39mraise\u001b[39;00m InvocationException(\n\u001b[1;32m   1960\u001b[0m             \u001b[39m'\u001b[39m\u001b[39mGraphViz\u001b[39m\u001b[39m\\'\u001b[39;00m\u001b[39ms executables not found\u001b[39m\u001b[39m'\u001b[39m)\n\u001b[1;32m   1962\u001b[0m \u001b[39mif\u001b[39;00m prog \u001b[39mnot\u001b[39;00m \u001b[39min\u001b[39;00m \u001b[39mself\u001b[39m\u001b[39m.\u001b[39mprogs:\n\u001b[1;32m   1963\u001b[0m     \u001b[39mraise\u001b[39;00m InvocationException(\n\u001b[1;32m   1964\u001b[0m         \u001b[39m'\u001b[39m\u001b[39mGraphViz\u001b[39m\u001b[39m\\'\u001b[39;00m\u001b[39ms executable \u001b[39m\u001b[39m\"\u001b[39m\u001b[39m%s\u001b[39;00m\u001b[39m\"\u001b[39m\u001b[39m not found\u001b[39m\u001b[39m'\u001b[39m \u001b[39m%\u001b[39m prog)\n",
            "\u001b[0;31mInvocationException\u001b[0m: GraphViz's executables not found"
          ]
        }
      ],
      "source": [
        "#Class 0 = Stay(In Orange)\n",
        "#Class 1 = Left(In Blue)\n",
        "dot_data = StringIO()\n",
        "export_graphviz(estimator2,\n",
        "                out_file=dot_data,\n",
        "                feature_names = featurecol,\n",
        "                #feature name is column head\n",
        "                class_names=['0','1'],filled=True,)\n",
        "                #Label is in order of amount\n",
        "graph = pydotplus.graph_from_dot_data(dot_data.getvalue())\n",
        "Image(graph.create_png())"
      ]
    },
    {
      "cell_type": "code",
      "execution_count": 46,
      "metadata": {
        "colab": {
          "base_uri": "https://localhost:8080/"
        },
        "id": "yv3PedHPzyne",
        "outputId": "c41219e3-1883-4cc4-c5b5-407d11bb8d66"
      },
      "outputs": [
        {
          "data": {
            "text/plain": [
              "OverTime                    0.141745\n",
              "Age                         0.135930\n",
              "TotalWorkingYears           0.126483\n",
              "JobLevel                    0.092848\n",
              "YearsWithCurrManager        0.092437\n",
              "YearsAtCompany              0.088860\n",
              "MonthlyRate                 0.061908\n",
              "EnvironmentSatisfaction     0.051298\n",
              "PercentSalaryHike           0.042918\n",
              "JobSatisfaction             0.037470\n",
              "JobInvolvement              0.036477\n",
              "YearsSinceLastPromotion     0.036306\n",
              "RelationshipSatisfaction    0.033404\n",
              "WorkLifeBalance             0.021918\n",
              "dtype: float64"
            ]
          },
          "execution_count": 46,
          "metadata": {},
          "output_type": "execute_result"
        }
      ],
      "source": [
        "feature_imp = pd.Series(clf8.feature_importances_,index = X_train.columns).sort_values(ascending = False)\n",
        "feature_imp\n",
        "#Important Feature is TotalWorkingYears ,Overtime , YearsWithCurrManager and Age"
      ]
    },
    {
      "cell_type": "code",
      "execution_count": 47,
      "metadata": {
        "colab": {
          "base_uri": "https://localhost:8080/"
        },
        "id": "0EqlUtgdzu94",
        "outputId": "a50b653a-e3a6-4c1c-8e98-05ba2964e19d"
      },
      "outputs": [
        {
          "name": "stdout",
          "output_type": "stream",
          "text": [
            "              precision    recall  f1-score   support\n",
            "\n",
            "           0       0.68      0.84      0.75        38\n",
            "           1       0.79      0.59      0.68        37\n",
            "\n",
            "    accuracy                           0.72        75\n",
            "   macro avg       0.73      0.72      0.71        75\n",
            "weighted avg       0.73      0.72      0.72        75\n",
            "\n"
          ]
        }
      ],
      "source": [
        "#Test the model with X_test data\n",
        "y_pred = clf8.predict(X_test)\n",
        "print(classification_report(y_test,y_pred))"
      ]
    },
    {
      "cell_type": "code",
      "execution_count": 48,
      "metadata": {
        "colab": {
          "base_uri": "https://localhost:8080/"
        },
        "id": "x9P0PvjnDFAC",
        "outputId": "791b1e50-4e84-45f9-b2a5-bf3831f198aa"
      },
      "outputs": [
        {
          "name": "stdout",
          "output_type": "stream",
          "text": [
            "[[32  6]\n",
            " [15 22]]\n"
          ]
        }
      ],
      "source": [
        "print(confusion_matrix(y_test,y_pred))"
      ]
    },
    {
      "cell_type": "code",
      "execution_count": 49,
      "metadata": {
        "id": "s5MvgRD61wXX"
      },
      "outputs": [],
      "source": [
        "# This Model has accuracy at 76 % when test with test Data\n",
        "# เนื่องจากตาม Domain ของข้อมูลเรา เรานั้นสนใจค่า Recall ของ  Class 1 เป็นพิเศษ เพื่อทำให้มีโอกาสที่จะเกิด False Negative ให้น้อยที่สุด\n",
        "# Recall Score of Interested Class (Class 1)of 61 %\n",
        "# f1-score of Interested Class (Class 1)of 7 %\n",
        "# weighted avg f1-score of 75 %\n",
        "# This One has acceptable level of Recall for the interested class But Lower than the First Random Forest"
      ]
    },
    {
      "cell_type": "code",
      "execution_count": 53,
      "metadata": {},
      "outputs": [],
      "source": [
        "import pickle\n",
        "filename ='projectRandomForest2.clf'\n",
        "pickle.dump(clf8,open(filename,'wb'))"
      ]
    },
    {
      "cell_type": "markdown",
      "metadata": {
        "id": "gX1B8O2ReprB"
      },
      "source": [
        "##7.สรุปผล (สามารถตอบคำถามตามวัตถุประสงค์ได้ อธิบายประโยชน์และการประยุกต์ใช้ได้)"
      ]
    },
    {
      "cell_type": "markdown",
      "metadata": {
        "id": "KRMcdxw6Bc8K"
      },
      "source": [
        "จากการได้ลองนำข้อมูลกลุ่มตัวอย่างพนักงานบริษัทมาใช้ในการออกแบบร่วมกับ model เราจึงได้ model ที่แม่นยำที่สุดในการนำมาวิเคราะห์คือ Random Forest ซึ่งสามารถให้ข้อมูลได้แบบละเอียดและสามารถชี้ความเป็นไปได้ว่าพนักงานคนไหนมีแนวโน้มที่จะลาออกจากบริษัทเราไป สามารถนำข้อมูลไปวิเคราะห์ได้หลายกลุ่มคนจาก node ที่ออกมาเช่น\n",
        "กลุ่มพนักงานใหม่อายุน้อยมีความสุขในการทำงานน้อยและได้รับเงินเดือนน้อย อาจจะต้องมีการปรับฐานเงินเดือนและปรับปรุงสภาพแวดล้อมในการทำงานเพิ่ม\n",
        "กลุ่มพนักงานเก่าที่อายุมากอาจจะมีความสัมพันธ์ที่ไม่ดีกับเพื่อนร่วมงานและยังไม่ได้รับการโปรโมตเร็วๆนี้ อาจจะมีการโปรโมตให้กับพนักงานดังกล่าวให้สูงขึ้นและปรับปรุงทัศนคติเพื่อนร่วมงาน\n",
        "ซึ่งตรงตามวัตถุประสงค์ที่กล่าวไว้ตั้งแต่ต้น สามารถนำไปใช้กับบริษัทองค์กรอื่นได้ หรือแม้แต่กลุ่มทำงานเล็กๆนี้ได้เช่นกัน โดยการเก็บข้อมูลเป็นแบบสอบถามและนำข้อมูลไปวัดผลผ่าน model โปรเจคนี้"
      ]
    },
    {
      "cell_type": "code",
      "execution_count": 51,
      "metadata": {},
      "outputs": [
        {
          "data": {
            "text/html": [
              "<div>\n",
              "<style scoped>\n",
              "    .dataframe tbody tr th:only-of-type {\n",
              "        vertical-align: middle;\n",
              "    }\n",
              "\n",
              "    .dataframe tbody tr th {\n",
              "        vertical-align: top;\n",
              "    }\n",
              "\n",
              "    .dataframe thead th {\n",
              "        text-align: right;\n",
              "    }\n",
              "</style>\n",
              "<table border=\"1\" class=\"dataframe\">\n",
              "  <thead>\n",
              "    <tr style=\"text-align: right;\">\n",
              "      <th></th>\n",
              "      <th>Age</th>\n",
              "      <th>Attrition</th>\n",
              "      <th>Department</th>\n",
              "      <th>EnvironmentSatisfaction</th>\n",
              "      <th>JobInvolvement</th>\n",
              "      <th>JobLevel</th>\n",
              "      <th>JobRole</th>\n",
              "      <th>JobSatisfaction</th>\n",
              "      <th>MonthlyRate</th>\n",
              "      <th>OverTime</th>\n",
              "      <th>PercentSalaryHike</th>\n",
              "      <th>PerformanceRating</th>\n",
              "      <th>RelationshipSatisfaction</th>\n",
              "      <th>TotalWorkingYears</th>\n",
              "      <th>WorkLifeBalance</th>\n",
              "      <th>YearsAtCompany</th>\n",
              "      <th>YearsInCurrentRole</th>\n",
              "      <th>YearsSinceLastPromotion</th>\n",
              "      <th>YearsWithCurrManager</th>\n",
              "    </tr>\n",
              "  </thead>\n",
              "  <tbody>\n",
              "    <tr>\n",
              "      <th>0</th>\n",
              "      <td>41</td>\n",
              "      <td>1</td>\n",
              "      <td>Sales</td>\n",
              "      <td>2</td>\n",
              "      <td>3</td>\n",
              "      <td>2</td>\n",
              "      <td>Sales Executive</td>\n",
              "      <td>4</td>\n",
              "      <td>19479</td>\n",
              "      <td>1</td>\n",
              "      <td>11</td>\n",
              "      <td>3</td>\n",
              "      <td>1</td>\n",
              "      <td>8</td>\n",
              "      <td>1</td>\n",
              "      <td>6</td>\n",
              "      <td>4</td>\n",
              "      <td>0</td>\n",
              "      <td>5</td>\n",
              "    </tr>\n",
              "    <tr>\n",
              "      <th>1</th>\n",
              "      <td>37</td>\n",
              "      <td>1</td>\n",
              "      <td>Research &amp; Development</td>\n",
              "      <td>4</td>\n",
              "      <td>2</td>\n",
              "      <td>1</td>\n",
              "      <td>Laboratory Technician</td>\n",
              "      <td>3</td>\n",
              "      <td>2396</td>\n",
              "      <td>1</td>\n",
              "      <td>15</td>\n",
              "      <td>3</td>\n",
              "      <td>2</td>\n",
              "      <td>7</td>\n",
              "      <td>3</td>\n",
              "      <td>0</td>\n",
              "      <td>0</td>\n",
              "      <td>0</td>\n",
              "      <td>0</td>\n",
              "    </tr>\n",
              "    <tr>\n",
              "      <th>2</th>\n",
              "      <td>28</td>\n",
              "      <td>1</td>\n",
              "      <td>Research &amp; Development</td>\n",
              "      <td>3</td>\n",
              "      <td>2</td>\n",
              "      <td>1</td>\n",
              "      <td>Laboratory Technician</td>\n",
              "      <td>3</td>\n",
              "      <td>12947</td>\n",
              "      <td>1</td>\n",
              "      <td>14</td>\n",
              "      <td>3</td>\n",
              "      <td>2</td>\n",
              "      <td>6</td>\n",
              "      <td>3</td>\n",
              "      <td>4</td>\n",
              "      <td>2</td>\n",
              "      <td>0</td>\n",
              "      <td>3</td>\n",
              "    </tr>\n",
              "    <tr>\n",
              "      <th>3</th>\n",
              "      <td>36</td>\n",
              "      <td>1</td>\n",
              "      <td>Sales</td>\n",
              "      <td>3</td>\n",
              "      <td>2</td>\n",
              "      <td>1</td>\n",
              "      <td>Sales Representative</td>\n",
              "      <td>1</td>\n",
              "      <td>6986</td>\n",
              "      <td>0</td>\n",
              "      <td>23</td>\n",
              "      <td>4</td>\n",
              "      <td>2</td>\n",
              "      <td>10</td>\n",
              "      <td>3</td>\n",
              "      <td>5</td>\n",
              "      <td>3</td>\n",
              "      <td>0</td>\n",
              "      <td>3</td>\n",
              "    </tr>\n",
              "    <tr>\n",
              "      <th>4</th>\n",
              "      <td>34</td>\n",
              "      <td>1</td>\n",
              "      <td>Research &amp; Development</td>\n",
              "      <td>2</td>\n",
              "      <td>3</td>\n",
              "      <td>1</td>\n",
              "      <td>Research Scientist</td>\n",
              "      <td>1</td>\n",
              "      <td>17102</td>\n",
              "      <td>0</td>\n",
              "      <td>11</td>\n",
              "      <td>3</td>\n",
              "      <td>3</td>\n",
              "      <td>8</td>\n",
              "      <td>3</td>\n",
              "      <td>4</td>\n",
              "      <td>2</td>\n",
              "      <td>1</td>\n",
              "      <td>3</td>\n",
              "    </tr>\n",
              "    <tr>\n",
              "      <th>...</th>\n",
              "      <td>...</td>\n",
              "      <td>...</td>\n",
              "      <td>...</td>\n",
              "      <td>...</td>\n",
              "      <td>...</td>\n",
              "      <td>...</td>\n",
              "      <td>...</td>\n",
              "      <td>...</td>\n",
              "      <td>...</td>\n",
              "      <td>...</td>\n",
              "      <td>...</td>\n",
              "      <td>...</td>\n",
              "      <td>...</td>\n",
              "      <td>...</td>\n",
              "      <td>...</td>\n",
              "      <td>...</td>\n",
              "      <td>...</td>\n",
              "      <td>...</td>\n",
              "      <td>...</td>\n",
              "    </tr>\n",
              "    <tr>\n",
              "      <th>494</th>\n",
              "      <td>23</td>\n",
              "      <td>1</td>\n",
              "      <td>Sales</td>\n",
              "      <td>4</td>\n",
              "      <td>3</td>\n",
              "      <td>1</td>\n",
              "      <td>Sales Representative</td>\n",
              "      <td>1</td>\n",
              "      <td>26956</td>\n",
              "      <td>0</td>\n",
              "      <td>19</td>\n",
              "      <td>3</td>\n",
              "      <td>1</td>\n",
              "      <td>1</td>\n",
              "      <td>2</td>\n",
              "      <td>1</td>\n",
              "      <td>0</td>\n",
              "      <td>1</td>\n",
              "      <td>0</td>\n",
              "    </tr>\n",
              "    <tr>\n",
              "      <th>495</th>\n",
              "      <td>29</td>\n",
              "      <td>1</td>\n",
              "      <td>Research &amp; Development</td>\n",
              "      <td>1</td>\n",
              "      <td>3</td>\n",
              "      <td>1</td>\n",
              "      <td>Research Scientist</td>\n",
              "      <td>4</td>\n",
              "      <td>26124</td>\n",
              "      <td>1</td>\n",
              "      <td>14</td>\n",
              "      <td>3</td>\n",
              "      <td>2</td>\n",
              "      <td>4</td>\n",
              "      <td>4</td>\n",
              "      <td>2</td>\n",
              "      <td>2</td>\n",
              "      <td>2</td>\n",
              "      <td>2</td>\n",
              "    </tr>\n",
              "    <tr>\n",
              "      <th>496</th>\n",
              "      <td>56</td>\n",
              "      <td>1</td>\n",
              "      <td>Research &amp; Development</td>\n",
              "      <td>4</td>\n",
              "      <td>3</td>\n",
              "      <td>1</td>\n",
              "      <td>Laboratory Technician</td>\n",
              "      <td>3</td>\n",
              "      <td>3666</td>\n",
              "      <td>0</td>\n",
              "      <td>11</td>\n",
              "      <td>3</td>\n",
              "      <td>4</td>\n",
              "      <td>14</td>\n",
              "      <td>1</td>\n",
              "      <td>10</td>\n",
              "      <td>9</td>\n",
              "      <td>9</td>\n",
              "      <td>8</td>\n",
              "    </tr>\n",
              "    <tr>\n",
              "      <th>497</th>\n",
              "      <td>50</td>\n",
              "      <td>1</td>\n",
              "      <td>Sales</td>\n",
              "      <td>2</td>\n",
              "      <td>3</td>\n",
              "      <td>2</td>\n",
              "      <td>Sales Executive</td>\n",
              "      <td>3</td>\n",
              "      <td>14255</td>\n",
              "      <td>0</td>\n",
              "      <td>12</td>\n",
              "      <td>3</td>\n",
              "      <td>4</td>\n",
              "      <td>12</td>\n",
              "      <td>3</td>\n",
              "      <td>6</td>\n",
              "      <td>3</td>\n",
              "      <td>0</td>\n",
              "      <td>1</td>\n",
              "    </tr>\n",
              "    <tr>\n",
              "      <th>498</th>\n",
              "      <td>50</td>\n",
              "      <td>1</td>\n",
              "      <td>Sales</td>\n",
              "      <td>4</td>\n",
              "      <td>2</td>\n",
              "      <td>3</td>\n",
              "      <td>Sales Executive</td>\n",
              "      <td>1</td>\n",
              "      <td>16586</td>\n",
              "      <td>1</td>\n",
              "      <td>13</td>\n",
              "      <td>3</td>\n",
              "      <td>2</td>\n",
              "      <td>20</td>\n",
              "      <td>3</td>\n",
              "      <td>3</td>\n",
              "      <td>2</td>\n",
              "      <td>2</td>\n",
              "      <td>0</td>\n",
              "    </tr>\n",
              "  </tbody>\n",
              "</table>\n",
              "<p>499 rows × 19 columns</p>\n",
              "</div>"
            ],
            "text/plain": [
              "     Age  Attrition              Department  EnvironmentSatisfaction  \\\n",
              "0     41          1                   Sales                        2   \n",
              "1     37          1  Research & Development                        4   \n",
              "2     28          1  Research & Development                        3   \n",
              "3     36          1                   Sales                        3   \n",
              "4     34          1  Research & Development                        2   \n",
              "..   ...        ...                     ...                      ...   \n",
              "494   23          1                   Sales                        4   \n",
              "495   29          1  Research & Development                        1   \n",
              "496   56          1  Research & Development                        4   \n",
              "497   50          1                   Sales                        2   \n",
              "498   50          1                   Sales                        4   \n",
              "\n",
              "     JobInvolvement  JobLevel                JobRole  JobSatisfaction  \\\n",
              "0                 3         2        Sales Executive                4   \n",
              "1                 2         1  Laboratory Technician                3   \n",
              "2                 2         1  Laboratory Technician                3   \n",
              "3                 2         1   Sales Representative                1   \n",
              "4                 3         1     Research Scientist                1   \n",
              "..              ...       ...                    ...              ...   \n",
              "494               3         1   Sales Representative                1   \n",
              "495               3         1     Research Scientist                4   \n",
              "496               3         1  Laboratory Technician                3   \n",
              "497               3         2        Sales Executive                3   \n",
              "498               2         3        Sales Executive                1   \n",
              "\n",
              "     MonthlyRate  OverTime  PercentSalaryHike  PerformanceRating  \\\n",
              "0          19479         1                 11                  3   \n",
              "1           2396         1                 15                  3   \n",
              "2          12947         1                 14                  3   \n",
              "3           6986         0                 23                  4   \n",
              "4          17102         0                 11                  3   \n",
              "..           ...       ...                ...                ...   \n",
              "494        26956         0                 19                  3   \n",
              "495        26124         1                 14                  3   \n",
              "496         3666         0                 11                  3   \n",
              "497        14255         0                 12                  3   \n",
              "498        16586         1                 13                  3   \n",
              "\n",
              "     RelationshipSatisfaction  TotalWorkingYears  WorkLifeBalance  \\\n",
              "0                           1                  8                1   \n",
              "1                           2                  7                3   \n",
              "2                           2                  6                3   \n",
              "3                           2                 10                3   \n",
              "4                           3                  8                3   \n",
              "..                        ...                ...              ...   \n",
              "494                         1                  1                2   \n",
              "495                         2                  4                4   \n",
              "496                         4                 14                1   \n",
              "497                         4                 12                3   \n",
              "498                         2                 20                3   \n",
              "\n",
              "     YearsAtCompany  YearsInCurrentRole  YearsSinceLastPromotion  \\\n",
              "0                 6                   4                        0   \n",
              "1                 0                   0                        0   \n",
              "2                 4                   2                        0   \n",
              "3                 5                   3                        0   \n",
              "4                 4                   2                        1   \n",
              "..              ...                 ...                      ...   \n",
              "494               1                   0                        1   \n",
              "495               2                   2                        2   \n",
              "496              10                   9                        9   \n",
              "497               6                   3                        0   \n",
              "498               3                   2                        2   \n",
              "\n",
              "     YearsWithCurrManager  \n",
              "0                       5  \n",
              "1                       0  \n",
              "2                       3  \n",
              "3                       3  \n",
              "4                       3  \n",
              "..                    ...  \n",
              "494                     0  \n",
              "495                     2  \n",
              "496                     8  \n",
              "497                     1  \n",
              "498                     0  \n",
              "\n",
              "[499 rows x 19 columns]"
            ]
          },
          "execution_count": 51,
          "metadata": {},
          "output_type": "execute_result"
        }
      ],
      "source": [
        "df"
      ]
    }
  ],
  "metadata": {
    "colab": {
      "provenance": []
    },
    "kernelspec": {
      "display_name": "Python 3",
      "name": "python3"
    },
    "language_info": {
      "codemirror_mode": {
        "name": "ipython",
        "version": 3
      },
      "file_extension": ".py",
      "mimetype": "text/x-python",
      "name": "python",
      "nbconvert_exporter": "python",
      "pygments_lexer": "ipython3",
      "version": "3.10.5"
    }
  },
  "nbformat": 4,
  "nbformat_minor": 0
}
